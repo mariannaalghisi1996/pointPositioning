{
 "cells": [
  {
   "cell_type": "code",
   "execution_count": 1,
   "id": "f6295564",
   "metadata": {},
   "outputs": [],
   "source": [
    "import functions as fn\n",
    "import pandas as pd\n",
    "import datetime as datetime\n",
    "from datetime import datetime as dtt"
   ]
  },
  {
   "cell_type": "code",
   "execution_count": 2,
   "id": "cd3c34d9",
   "metadata": {},
   "outputs": [],
   "source": [
    "nav_path = 'C:/git/pointPositioning/pointPositioning/mose_nav.rnx'\n",
    "obs_path = 'C:/git/pointPositioning/pointPositioning/mose_obs.crx'"
   ]
  },
  {
   "cell_type": "code",
   "execution_count": 3,
   "id": "fda1198b",
   "metadata": {},
   "outputs": [],
   "source": [
    "time_range = []\n",
    "START = dtt.strptime('2021-05-06 00:00:00', '%Y-%m-%d %H:%M:%S')\n",
    "END = dtt.strptime('2021-05-06 23:45:00', '%Y-%m-%d %H:%M:%S')\n",
    "t = START\n",
    "while t <= END:\n",
    "    time_range.append(t)\n",
    "    t = t + datetime.timedelta(minutes=5)"
   ]
  },
  {
   "cell_type": "code",
   "execution_count": 4,
   "id": "bb6820f9",
   "metadata": {},
   "outputs": [
    {
     "name": "stderr",
     "output_type": "stream",
     "text": [
      "C:\\git\\pointPositioning\\pointPositioning\\functions.py:20: SettingWithCopyWarning: \n",
      "A value is trying to be set on a copy of a slice from a DataFrame\n",
      "\n",
      "See the caveats in the documentation: https://pandas.pydata.org/pandas-docs/stable/user_guide/indexing.html#returning-a-view-versus-a-copy\n",
      "  df['time'][i] = t\n"
     ]
    }
   ],
   "source": [
    "sat_galileo = fn.getGALILEOorbits(nav_path, obs_path, time_range)"
   ]
  },
  {
   "cell_type": "code",
   "execution_count": 6,
   "id": "6f73e461",
   "metadata": {},
   "outputs": [
    {
     "name": "stderr",
     "output_type": "stream",
     "text": [
      "C:\\git\\pointPositioning\\pointPositioning\\functions.py:20: SettingWithCopyWarning: \n",
      "A value is trying to be set on a copy of a slice from a DataFrame\n",
      "\n",
      "See the caveats in the documentation: https://pandas.pydata.org/pandas-docs/stable/user_guide/indexing.html#returning-a-view-versus-a-copy\n",
      "  df['time'][i] = t\n"
     ]
    }
   ],
   "source": [
    "sat_gps = fn.getGPSorbits(nav_path, obs_path, time_range)"
   ]
  },
  {
   "cell_type": "code",
   "execution_count": 7,
   "id": "fe74d9c3",
   "metadata": {},
   "outputs": [],
   "source": [
    "satellites = pd.concat([sat_gps, sat_galileo])"
   ]
  },
  {
   "cell_type": "code",
   "execution_count": 11,
   "id": "d060ffa0",
   "metadata": {},
   "outputs": [],
   "source": [
    "satellites['P1'] = satellites['C1C']"
   ]
  },
  {
   "cell_type": "code",
   "execution_count": 15,
   "id": "505eecb7",
   "metadata": {},
   "outputs": [],
   "source": [
    "satellites.to_csv('test_sat.csv')"
   ]
  },
  {
   "cell_type": "code",
   "execution_count": null,
   "id": "7413bb21",
   "metadata": {},
   "outputs": [],
   "source": []
  }
 ],
 "metadata": {
  "kernelspec": {
   "display_name": "Python 3",
   "language": "python",
   "name": "python3"
  },
  "language_info": {
   "codemirror_mode": {
    "name": "ipython",
    "version": 3
   },
   "file_extension": ".py",
   "mimetype": "text/x-python",
   "name": "python",
   "nbconvert_exporter": "python",
   "pygments_lexer": "ipython3",
   "version": "3.7.6"
  }
 },
 "nbformat": 4,
 "nbformat_minor": 5
}
