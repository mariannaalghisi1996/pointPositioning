{
 "cells": [
  {
   "cell_type": "code",
   "execution_count": 1,
   "id": "4a4abf2f",
   "metadata": {},
   "outputs": [],
   "source": [
    "# Import of the required libraries\n",
    "import georinex as gr\n",
    "import pandas as pd\n",
    "import numpy as np\n",
    "import matplotlib.pyplot as plt\n",
    "import datetime as datetime\n",
    "from datetime import datetime as dtt\n",
    "import matplotlib.dates as mdates\n",
    "from matplotlib.dates import DateFormatter\n",
    "\n",
    "# Import of the software's modules\n",
    "import functions as fn\n",
    "import transformations as trf\n",
    "import pointPositioning as pp\n",
    "import RINEXreader "
   ]
  },
  {
   "cell_type": "code",
   "execution_count": 14,
   "id": "e3eea6ca",
   "metadata": {},
   "outputs": [],
   "source": [
    "param_file = 'parameters.txt'\n",
    "file = open(param_file, 'r')\n",
    "p = file.read().split('\\n')\n",
    "\n",
    "# Definition of the paths to the RINEX files\n",
    "nav_path = p[0]\n",
    "obs_path = p[1]\n",
    "eph_path = p[2]\n",
    "cutoff = int(p[3])"
   ]
  },
  {
   "cell_type": "markdown",
   "id": "1c69cc6d",
   "metadata": {},
   "source": [
    "# Load with georinex library of nav and obs rinex info"
   ]
  },
  {
   "cell_type": "code",
   "execution_count": 16,
   "id": "503f94b4",
   "metadata": {},
   "outputs": [
    {
     "name": "stderr",
     "output_type": "stream",
     "text": [
      "C:\\git\\pointPositioning\\pointPositioning\\functions.py:19: SettingWithCopyWarning: \n",
      "A value is trying to be set on a copy of a slice from a DataFrame\n",
      "\n",
      "See the caveats in the documentation: https://pandas.pydata.org/pandas-docs/stable/user_guide/indexing.html#returning-a-view-versus-a-copy\n",
      "  df['time'][i] = t\n"
     ]
    }
   ],
   "source": [
    "# Loading of GPS navigation parameters from NAV RINEX\n",
    "param_gps = gr.load(nav_path)\n",
    "df_gps = param_gps.to_dataframe()\n",
    "df_gps = ((df_gps.dropna()).sort_values(by=['time'], ascending = True)).reset_index()\n",
    "# Corrupted timestamps are corrected\n",
    "df_gps = fn.fixTime(df_gps)\n",
    "\n",
    "# Loading of GPS code observations in a DataSet\n",
    "obs = gr.load(obs_path, use = 'G')\n",
    "\n",
    "data = df_gps['time'][0]"
   ]
  },
  {
   "cell_type": "code",
   "execution_count": 22,
   "id": "2704f77d",
   "metadata": {},
   "outputs": [],
   "source": [
    "# Definition of time range in which we want to carry out the analysis (get Satellite position, velocity and clockoffset and\n",
    "# perform Point Positioning)\n",
    "time_range = []\n",
    "\n",
    "START = df_gps['time'].min()\n",
    "END = dtt.strptime('2021-05-27 00:00:00', '%Y-%m-%d %H:%M:%S')\n",
    "t = START\n",
    "while t <= END:\n",
    "    time_range.append(t)\n",
    "    t = t + datetime.timedelta(minutes=5)\n",
    "mask_par = df_gps['time'] <= END\n",
    "df_gps = df_gps[mask_par].reset_index().drop(columns=['index'])\n",
    "    \n",
    "# List of the timestamps of the available observation (we can perform Point Positioning only when we have sufficient \n",
    "# code observations)\n",
    "time_obs = obs.time.to_dataframe()['time'].tolist()"
   ]
  },
  {
   "cell_type": "markdown",
   "id": "4e33eeb2",
   "metadata": {},
   "source": [
    "# Satellites positions, velocities and clock offsets"
   ]
  },
  {
   "cell_type": "code",
   "execution_count": 23,
   "id": "880e9d04",
   "metadata": {},
   "outputs": [
    {
     "name": "stdout",
     "output_type": "stream",
     "text": [
      "                    time   sv            xs            ys            zs  \\\n",
      "0    2021-05-26 00:00:00  G02  2.135798e+07 -1.473658e+07  6.439559e+06   \n",
      "1    2021-05-26 00:00:00  G05  6.689723e+06 -1.392794e+07  2.143672e+07   \n",
      "2    2021-05-26 00:00:00  G06  2.543621e+07 -5.896490e+06 -4.987166e+06   \n",
      "3    2021-05-26 00:00:00  G07  1.425396e+07  1.027658e+07  2.040488e+07   \n",
      "4    2021-05-26 00:00:00  G09  8.367914e+06  1.962441e+07  1.574966e+07   \n",
      "...                  ...  ...           ...           ...           ...   \n",
      "2791 2021-05-26 23:55:00  G09  8.404780e+06  1.950610e+07  1.587589e+07   \n",
      "2792 2021-05-26 23:55:00  G13  1.316867e+07 -2.101954e+07  9.175302e+06   \n",
      "2793 2021-05-26 23:55:00  G14  2.219416e+07  1.082787e+07 -9.832937e+06   \n",
      "2794 2021-05-26 23:55:00  G20 -4.069218e+05 -1.745739e+07  2.003976e+07   \n",
      "2795 2021-05-26 23:55:00  G30  2.379445e+07  1.253886e+06  1.203912e+07   \n",
      "\n",
      "           xs_dot       ys_dot       zs_dot        ts            P1  \n",
      "0      768.788232   -80.196831 -3038.245382 -0.000607  2.307212e+07  \n",
      "1     2220.116435  1642.765159   389.809779 -0.000043  2.238248e+07  \n",
      "2     -529.399603   407.409024 -3139.426694  0.000020  2.387310e+07  \n",
      "3    -2324.060006   931.238786  1125.713594  0.000161  2.081500e+07  \n",
      "4     -511.047765  1959.253265 -2163.873827 -0.000348  2.232484e+07  \n",
      "...           ...          ...          ...       ...           ...  \n",
      "2791  -519.394684  1973.454583 -2144.005966 -0.000348  2.242592e+07  \n",
      "2792  -114.463809  1207.755130  2902.619263  0.000137  2.386072e+07  \n",
      "2793   748.143072  1030.437336  2822.732172  0.000080  2.497299e+07  \n",
      "2794  2237.545003  1236.255258  1092.148994  0.000522  2.423676e+07  \n",
      "2795 -1346.125934   749.227075  2572.270188 -0.000431  2.092788e+07  \n",
      "\n",
      "[2796 rows x 10 columns]\n"
     ]
    }
   ],
   "source": [
    "# Definition of the empty DataFrame that will contain the results\n",
    "satellites = pd.DataFrame(columns = ['time', 'sv', 'xs', 'ys', 'zs', 'xs_dot', 'ys_dot', 'zs_dot', 'ts', 'C1'])\n",
    "\n",
    "for w in time_range:\n",
    "    # The list of satellites, whose parameter we want to estimate, is obtained from the available observations:\n",
    "    # for each instant of time in time_range we select the in-view satellite\n",
    "    # their position, velocity and clock offset are the computed\n",
    "    if w in time_obs:\n",
    "        obs_tk = (obs.sel(time = w)).to_dataframe().reset_index()\n",
    "        obs_tk = obs_tk[['time', 'sv', 'P1']].dropna().reset_index()\n",
    "        available_sat = (obs_tk['sv']).to_list()\n",
    "        if len(available_sat) > 0:\n",
    "            for sv_i in available_sat:\n",
    "                # Every satellite in view at the considered epoch is associated with the parameter slot \n",
    "                # to which it belongs through the getPar function\n",
    "                sat_par = fn.getPar(sv_i, w, df_gps)\n",
    "                # If the navigation parameters are available:\n",
    "                if type(sat_par) == pd.core.frame.DataFrame:\n",
    "                    sat = fn.satPosVel(sat_par).reset_index()\n",
    "                    sat = sat.merge(obs_tk, on = ['sv', 'time'], how = 'left')\n",
    "                    satellites = satellites.append(sat)\n",
    "        \n",
    "satellites = satellites.reset_index()\n",
    "satellites = satellites[['time', 'sv', 'xs', 'ys', 'zs', 'xs_dot', 'ys_dot', 'zs_dot', 'ts', 'P1']]\n",
    "\n",
    "print(satellites)"
   ]
  },
  {
   "cell_type": "markdown",
   "id": "e31d6fea",
   "metadata": {},
   "source": [
    "# Check on satellites' position and clock offsets"
   ]
  },
  {
   "cell_type": "code",
   "execution_count": null,
   "id": "029db5f4",
   "metadata": {},
   "outputs": [],
   "source": [
    "confronto = fn.checkSatPos(satellites, eph_path)"
   ]
  },
  {
   "cell_type": "markdown",
   "id": "4788a76c",
   "metadata": {},
   "source": [
    "# Check on satellites' velocity"
   ]
  },
  {
   "cell_type": "code",
   "execution_count": null,
   "id": "3b2f2eb2",
   "metadata": {},
   "outputs": [],
   "source": [
    "velocita = fn.checkSatVel(satellites, df_gps)"
   ]
  },
  {
   "cell_type": "markdown",
   "id": "89bb5bc1",
   "metadata": {},
   "source": [
    "# Point Positioning"
   ]
  },
  {
   "cell_type": "code",
   "execution_count": null,
   "id": "992937b7",
   "metadata": {},
   "outputs": [
    {
     "name": "stdout",
     "output_type": "stream",
     "text": [
      "Inosphere parameters:  [[6.5193e-09, 2.2352e-08, -5.9605e-08, -1.1921e-07], [86016.0, 98304.0, -65536.0, -524290.0]]\n",
      "2021-05-26 00:00:00 ok\n",
      "2021-05-26 00:05:00 ok\n",
      "2021-05-26 00:10:00 ok\n",
      "2021-05-26 00:15:00 ok\n",
      "2021-05-26 00:20:00 ok\n",
      "2021-05-26 00:25:00 ok\n",
      "2021-05-26 00:30:00 ok\n",
      "2021-05-26 00:35:00 ok\n",
      "2021-05-26 00:40:00 ok\n",
      "2021-05-26 00:45:00 ok\n",
      "2021-05-26 00:50:00 ok\n",
      "2021-05-26 00:55:00 ok\n",
      "2021-05-26 01:00:00 ok\n",
      "2021-05-26 01:05:00 ok\n",
      "2021-05-26 01:10:00 ok\n",
      "2021-05-26 01:15:00 ok\n",
      "2021-05-26 01:20:00 ok\n",
      "2021-05-26 01:25:00 ok\n",
      "2021-05-26 01:30:00 ok\n",
      "2021-05-26 01:35:00 ok\n",
      "2021-05-26 01:40:00 ok\n",
      "2021-05-26 01:45:00 ok\n",
      "2021-05-26 01:50:00 ok\n",
      "2021-05-26 01:55:00 ok\n",
      "2021-05-26 02:00:00 ok\n",
      "2021-05-26 02:05:00 ok\n",
      "2021-05-26 02:10:00 ok\n",
      "2021-05-26 02:15:00 ok\n",
      "2021-05-26 02:20:00 ok\n",
      "2021-05-26 02:25:00 ok\n",
      "2021-05-26 02:30:00 ok\n",
      "2021-05-26 02:35:00 ok\n",
      "2021-05-26 02:40:00 ok\n",
      "2021-05-26 02:45:00 ok\n",
      "2021-05-26 02:50:00 ok\n",
      "2021-05-26 02:55:00 ok\n",
      "2021-05-26 03:00:00 ok\n",
      "2021-05-26 03:05:00 ok\n",
      "2021-05-26 03:10:00 ok\n",
      "2021-05-26 03:15:00 ok\n",
      "2021-05-26 03:20:00 ok\n",
      "2021-05-26 03:25:00 ok\n",
      "2021-05-26 03:30:00 ok\n",
      "2021-05-26 03:35:00 ok\n",
      "2021-05-26 03:40:00 ok\n",
      "2021-05-26 03:45:00 ok\n",
      "2021-05-26 03:50:00 ok\n",
      "2021-05-26 03:55:00 ok\n",
      "2021-05-26 04:00:00 ok\n",
      "2021-05-26 04:05:00 ok\n",
      "2021-05-26 04:10:00 ok\n",
      "2021-05-26 04:15:00 ok\n",
      "2021-05-26 04:20:00 ok\n",
      "2021-05-26 04:25:00 ok\n",
      "2021-05-26 04:30:00 ok\n",
      "2021-05-26 04:35:00 ok\n",
      "2021-05-26 04:40:00 ok\n",
      "2021-05-26 04:45:00 ok\n",
      "2021-05-26 04:50:00 ok\n",
      "2021-05-26 04:55:00 ok\n",
      "2021-05-26 05:00:00 ok\n",
      "2021-05-26 05:05:00 ok\n",
      "2021-05-26 05:10:00 ok\n",
      "2021-05-26 05:15:00 ok\n",
      "2021-05-26 05:20:00 ok\n",
      "2021-05-26 05:25:00 ok\n",
      "2021-05-26 05:30:00 ok\n",
      "2021-05-26 05:35:00 ok\n",
      "2021-05-26 05:40:00 ok\n",
      "2021-05-26 05:45:00 ok\n",
      "2021-05-26 05:50:00 ok\n",
      "2021-05-26 05:55:00 ok\n",
      "2021-05-26 06:00:00 ok\n",
      "2021-05-26 06:05:00 ok\n",
      "2021-05-26 06:10:00 ok\n",
      "2021-05-26 06:15:00 ok\n",
      "2021-05-26 06:20:00 ok\n",
      "2021-05-26 06:25:00 ok\n",
      "2021-05-26 06:30:00 ok\n",
      "2021-05-26 06:35:00 ok\n",
      "2021-05-26 06:40:00 ok\n",
      "2021-05-26 06:45:00 ok\n",
      "2021-05-26 06:50:00 ok\n",
      "2021-05-26 06:55:00 ok\n",
      "2021-05-26 07:00:00 ok\n",
      "2021-05-26 07:05:00 ok\n",
      "2021-05-26 07:10:00 ok\n",
      "2021-05-26 07:15:00 ok\n",
      "2021-05-26 07:20:00 ok\n",
      "2021-05-26 07:25:00 ok\n",
      "2021-05-26 07:30:00 ok\n",
      "2021-05-26 07:35:00 ok\n",
      "2021-05-26 07:40:00 ok\n",
      "2021-05-26 07:45:00 ok\n",
      "2021-05-26 07:50:00 ok\n",
      "2021-05-26 07:55:00 ok\n",
      "2021-05-26 08:00:00 ok\n",
      "2021-05-26 08:05:00 ok\n",
      "2021-05-26 08:10:00 ok\n",
      "2021-05-26 08:15:00 ok\n",
      "2021-05-26 08:20:00 ok\n",
      "2021-05-26 08:25:00 ok\n",
      "2021-05-26 08:30:00 ok\n",
      "2021-05-26 08:35:00 ok\n",
      "2021-05-26 08:40:00 ok\n",
      "2021-05-26 08:45:00 ok\n",
      "2021-05-26 08:50:00 ok\n",
      "2021-05-26 08:55:00 ok\n",
      "2021-05-26 09:00:00 ok\n",
      "2021-05-26 09:05:00 ok\n",
      "2021-05-26 09:10:00 ok\n",
      "2021-05-26 09:15:00 ok\n",
      "2021-05-26 09:20:00 ok\n",
      "2021-05-26 09:25:00 ok\n",
      "2021-05-26 09:30:00 ok\n",
      "2021-05-26 09:35:00 ok\n",
      "2021-05-26 09:40:00 ok\n",
      "2021-05-26 09:45:00 ok\n",
      "2021-05-26 09:50:00 ok\n",
      "2021-05-26 09:55:00 ok\n",
      "2021-05-26 10:00:00 ok\n",
      "2021-05-26 10:05:00 ok\n",
      "2021-05-26 10:10:00 ok\n",
      "2021-05-26 10:15:00 ok\n",
      "2021-05-26 10:20:00 ok\n",
      "2021-05-26 10:25:00 ok\n",
      "2021-05-26 10:30:00 ok\n",
      "2021-05-26 10:35:00 ok\n",
      "2021-05-26 10:40:00 ok\n",
      "2021-05-26 10:45:00 ok\n",
      "2021-05-26 10:50:00 ok\n",
      "2021-05-26 10:55:00 ok\n",
      "2021-05-26 11:00:00 ok\n",
      "2021-05-26 11:05:00 ok\n",
      "2021-05-26 11:10:00 ok\n",
      "2021-05-26 11:15:00 ok\n",
      "2021-05-26 11:20:00 ok\n",
      "2021-05-26 11:25:00 ok\n",
      "2021-05-26 11:30:00 ok\n",
      "2021-05-26 11:35:00 ok\n",
      "2021-05-26 11:40:00 ok\n",
      "2021-05-26 11:45:00 ok\n",
      "2021-05-26 11:50:00 ok\n",
      "2021-05-26 11:55:00 ok\n",
      "2021-05-26 12:00:00 ok\n",
      "2021-05-26 12:05:00 ok\n"
     ]
    }
   ],
   "source": [
    "# Alpha and Beta paramethers for computing Ionosphere correction are read from nav RINEX through an apposite function\n",
    "ionoParams = RINEXreader.getIonoParams(nav_path)\n",
    "print('Inosphere parameters: ', ionoParams)\n",
    "\n",
    "# Definition of the initial position of the receiver (from OBS RINEX)\n",
    "R_0 = RINEXreader.getStartPos(obs_path)\n",
    "\n",
    "# Performing of Point Positioning with the apposite function\n",
    "results = pp.pointPositioning(satellites, R_0, ionoParams, cutoff)\n",
    "\n",
    "print(results)"
   ]
  },
  {
   "cell_type": "code",
   "execution_count": null,
   "id": "e34b7de9",
   "metadata": {},
   "outputs": [],
   "source": [
    "print('Statistical analysis on Point Positioning results:')\n",
    "print('Mean values: ')\n",
    "print('XR: ', results['xr'].mean())\n",
    "print('YR: ', results['yr'].mean())\n",
    "print('ZR: ', results['zr'].mean())\n",
    "print('dtR: ', results['dtr'].mean())\n",
    "\n",
    "print('Standard deviation: ')\n",
    "print('XR: ', results['xr'].std())\n",
    "print('YR: ', results['yr'].std())\n",
    "print('ZR: ', results['zr'].std())\n",
    "print('dtR: ', results['dtr'].std())"
   ]
  },
  {
   "cell_type": "markdown",
   "id": "149bad94",
   "metadata": {},
   "source": [
    "# Transformation in Local Cartesian"
   ]
  },
  {
   "cell_type": "code",
   "execution_count": 25,
   "id": "a8dd81b3",
   "metadata": {},
   "outputs": [],
   "source": [
    "# Coordinates of the receiver, Milan Permanent Station, reference: SPIN3GNSS\n",
    "P0_g = [45.478368630552694, 9.229212872263435, 191.12520962953568]\n",
    "P0_cart = trf.geodToCart(45.478368630552694, 9.229212872263435, 191.12520962953568)\n",
    "\n",
    "results_LC = pd.DataFrame()\n",
    "results_LC['dx'] = results['xr'] - P0_cart[0]\n",
    "results_LC['dy'] = results['yr'] - P0_cart[1]\n",
    "results_LC['dz'] = results['zr'] - P0_cart[2]\n",
    "\n",
    "E=[]\n",
    "N=[]\n",
    "U=[]\n",
    "\n",
    "lat0 = trf.degToRad(P0_g[0])\n",
    "lon0 = trf.degToRad(P0_g[1])\n",
    "\n",
    "# Definition of the rotation matrix\n",
    "R = np.array([ [-np.sin(lon0), np.cos(lon0), 0],\n",
    "                [-np.sin(lat0)*np.cos(lon0), -np.sin(lat0)*np.sin(lon0), np.cos(lat0)],\n",
    "                [np.cos(lat0)*np.cos(lon0), np.cos(lat0)*np.sin(lon0), np.sin(lat0)]\n",
    "                ])\n",
    "\n",
    "for i in range(len(results_LC)):\n",
    "    delta_array_i = np.array([[results_LC['dx'][i]], [results_LC['dy'][i]], [results_LC['dz'][i]]])\n",
    "    ENU =np.dot(R, delta_array_i)\n",
    "    E.append(ENU[0][0])\n",
    "    N.append(ENU[1][0])\n",
    "    U.append(ENU[2][0])\n",
    "\n",
    "results_LC['E'] = E\n",
    "results_LC['N'] = N\n",
    "results_LC['U'] = U\n",
    "results_LC['time'] = results['datetime']\n",
    "results_LC = results_LC.reset_index()"
   ]
  },
  {
   "cell_type": "code",
   "execution_count": 26,
   "id": "6b673ce7",
   "metadata": {},
   "outputs": [
    {
     "name": "stdout",
     "output_type": "stream",
     "text": [
      "MEDIA ERRORI:\n",
      "Est:  0.5200296715381222 \n",
      " Nord:  1.7060294212692184 \n",
      " Quota:  -0.565668033140741\n",
      "DEVIAZIONE STANDARD: \n",
      " Est:  1.3246136020512305 \n",
      " Nord:  2.085661109058395 \n",
      " Quota:  3.0028292234665614\n",
      "Valori Massimi: \n",
      " Est:  3.10525948072217 \n",
      " Nord:  5.662287804078708 \n",
      " Quota:  8.33405731281589\n"
     ]
    }
   ],
   "source": [
    "print('MEDIA ERRORI:')\n",
    "print('Est: ', results_LC['E'].mean(), '\\n',\n",
    "      'Nord: ', results_LC['N'].mean(), '\\n',\n",
    "      'Quota: ', results_LC['U'].mean() )\n",
    "\n",
    "print('DEVIAZIONE STANDARD:', '\\n',\n",
    "      'Est: ', results_LC['E'].std(), '\\n',\n",
    "      'Nord: ', results_LC['N'].std(), '\\n',\n",
    "      'Quota: ', results_LC['U'].std() )\n",
    "\n",
    "print('Valori Massimi:', '\\n',\n",
    "      'Est: ', abs(results_LC['E']).max(), '\\n',\n",
    "      'Nord: ', abs(results_LC['N']).max(), '\\n',\n",
    "      'Quota: ', abs(results_LC['U']).max() )"
   ]
  },
  {
   "cell_type": "code",
   "execution_count": 27,
   "id": "fdf9a842",
   "metadata": {},
   "outputs": [
    {
     "data": {
      "image/png": "[encoded data removed]",
      "text/plain": [
       "<Figure size 720x432 with 1 Axes>"
      ]
     },
     "metadata": {
      "needs_background": "light"
     },
     "output_type": "display_data"
    }
   ],
   "source": [
    "fig, ax = plt.subplots(figsize=(10,6))\n",
    "ax.plot(results_LC['time'], results_LC['E'],\n",
    "        '-',\n",
    "        color='red')\n",
    "ax.set(xlabel=\"Time\", ylabel='EAST', title = 'Time-EAST')\n",
    "ax.xaxis.set_major_locator(mdates.HourLocator(interval=2))\n",
    "ax.xaxis.set_major_formatter(DateFormatter(\"%H-%M\"))\n",
    "plt.show()"
   ]
  },
  {
   "cell_type": "code",
   "execution_count": 28,
   "id": "100e33b0",
   "metadata": {},
   "outputs": [
    {
     "data": {
      "image/png": "[encoded data removed]",
      "text/plain": [
       "<Figure size 720x432 with 1 Axes>"
      ]
     },
     "metadata": {
      "needs_background": "light"
     },
     "output_type": "display_data"
    }
   ],
   "source": [
    "fig, ax = plt.subplots(figsize=(10,6))\n",
    "ax.plot(results_LC['time'], results_LC['N'],\n",
    "        '-',\n",
    "        color='blue')\n",
    "ax.set(xlabel=\"Time\", ylabel='NORTH', title = 'Time-NORTH')\n",
    "ax.xaxis.set_major_locator(mdates.HourLocator(interval=2))\n",
    "ax.xaxis.set_major_formatter(DateFormatter(\"%H-%M\"))\n",
    "plt.show()"
   ]
  },
  {
   "cell_type": "code",
   "execution_count": 29,
   "id": "f152ecc0",
   "metadata": {},
   "outputs": [
    {
     "data": {
      "image/png": "[encoded data removed]",
      "text/plain": [
       "<Figure size 720x432 with 1 Axes>"
      ]
     },
     "metadata": {
      "needs_background": "light"
     },
     "output_type": "display_data"
    }
   ],
   "source": [
    "fig, ax = plt.subplots(figsize=(10,6))\n",
    "ax.plot(results_LC['time'], results_LC['U'],\n",
    "        '-',\n",
    "        color='green')\n",
    "ax.set(xlabel=\"Time\", ylabel='UP', title = 'Time-UP')\n",
    "ax.xaxis.set_major_locator(mdates.HourLocator(interval=2))\n",
    "ax.xaxis.set_major_formatter(DateFormatter(\"%H-%M\"))\n",
    "plt.show()"
   ]
  },
  {
   "cell_type": "code",
   "execution_count": null,
   "id": "87e333f2",
   "metadata": {},
   "outputs": [],
   "source": []
  }
 ],
 "metadata": {
  "kernelspec": {
   "display_name": "Python 3",
   "language": "python",
   "name": "python3"
  },
  "language_info": {
   "codemirror_mode": {
    "name": "ipython",
    "version": 3
   },
   "file_extension": ".py",
   "mimetype": "text/x-python",
   "name": "python",
   "nbconvert_exporter": "python",
   "pygments_lexer": "ipython3",
   "version": "3.7.6"
  }
 },
 "nbformat": 4,
 "nbformat_minor": 5
}
