{
 "cells": [
  {
   "cell_type": "code",
   "execution_count": 1,
   "id": "4a4abf2f",
   "metadata": {},
   "outputs": [],
   "source": [
    "# Import of the required libraries\n",
    "import georinex as gr\n",
    "import pandas as pd\n",
    "import numpy as np\n",
    "import matplotlib.pyplot as plt\n",
    "import datetime as datetime\n",
    "from datetime import datetime as dtt\n",
    "import matplotlib.dates as mdates\n",
    "from matplotlib.dates import DateFormatter\n",
    "import matplotlib.patches as mpatches\n",
    "\n",
    "# Import of the software's modules\n",
    "import functions as fn\n",
    "import transformations as trf\n",
    "import pointPositioning as pp\n",
    "import RINEXreader \n",
    "import easyPlot"
   ]
  },
  {
   "cell_type": "code",
   "execution_count": 2,
   "id": "9351c5cf",
   "metadata": {},
   "outputs": [],
   "source": [
    "nav_path = 'C:/git/pointPositioning/pointPositioning/mose_nav.rnx'\n",
    "obs_path = 'C:/git/pointPositioning/pointPositioning/mose_obs.crx'\n",
    "eph_path = 'C:/git/pointPositioning/pointPositioning/EPH_2021_5_6.SP3'"
   ]
  },
  {
   "cell_type": "code",
   "execution_count": 3,
   "id": "aac0710e",
   "metadata": {},
   "outputs": [],
   "source": [
    "time_range = []\n",
    "START = dtt.strptime('2021-05-06 00:00:00', '%Y-%m-%d %H:%M:%S')\n",
    "END = dtt.strptime('2021-05-06 23:45:00', '%Y-%m-%d %H:%M:%S')\n",
    "t = START\n",
    "while t <= END:\n",
    "    time_range.append(t)\n",
    "    t = t + datetime.timedelta(minutes=5)"
   ]
  },
  {
   "cell_type": "code",
   "execution_count": 4,
   "id": "e3eea6ca",
   "metadata": {},
   "outputs": [],
   "source": [
    "sat_gps = pd.read_csv('C:/git/pointPositioning/pointPositioning/csv/sat_gps.csv')\n",
    "\n",
    "conv_t = []\n",
    "for i in range(len(sat_gps)):\n",
    "    t_i = sat_gps['time'][i]\n",
    "    t_i_conv = dtt.strptime(t_i, '%Y-%m-%d %H:%M:%S')\n",
    "    conv_t.append(t_i_conv)\n",
    "\n",
    "sat_gps = sat_gps.drop(columns=['Unnamed: 0', 'time'])\n",
    "sat_gps['time'] = conv_t\n"
   ]
  },
  {
   "cell_type": "code",
   "execution_count": 5,
   "id": "4f45596f",
   "metadata": {},
   "outputs": [],
   "source": [
    "sat_gal = fn.getGALILEOorbits(nav_path, obs_path, time_range)"
   ]
  },
  {
   "cell_type": "code",
   "execution_count": 8,
   "id": "0c6a0b3a",
   "metadata": {},
   "outputs": [],
   "source": [
    "from NQ import TEC as modTEC"
   ]
  },
  {
   "cell_type": "code",
   "execution_count": 6,
   "id": "f63b25f5",
   "metadata": {},
   "outputs": [
    {
     "data": {
      "text/plain": [
       "Index(['time', 'sv', 'xs', 'ys', 'zs', 'xs_dot', 'ys_dot', 'zs_dot', 'ts',\n",
       "       'C1C', 'constellation'],\n",
       "      dtype='object')"
      ]
     },
     "execution_count": 6,
     "metadata": {},
     "output_type": "execute_result"
    }
   ],
   "source": [
    "mose_cart = [4642432.50, 1028629.40, 4236854.20]\n",
    "mose_geod = trf.cartToGeod(4642432.50, 1028629.40, 4236854.20)\n",
    "lat = mose_geod[0]\n",
    "lon = mose_geod[1]\n",
    "h = mose_geod[2]*10**(-3)\n",
    "\n",
    "P1 = [lat, lon, h]\n",
    "\n",
    "delays = pd.DataFrame(columns = ['sv', 'time', 'TEC'])\n",
    "for i in range(len(satellites)):\n",
    "    time = satellites['time'][i]\n",
    "    parametri = mp.getModelParams(lat, lon, time, nav_path)\n",
    "    xs, ys, zs = sat_gal['xs'][i], sat_gal['ys'][i], sat_gal['zs'][i]\n",
    "    P2 = trf.cartToGeod(xs, ys, zs)\n",
    "    P2[2] = P2[2]*10**(-3)\n",
    "    TEC_i = modTEC.getTEC(P1, P2, parametri)\n",
    "    new_row = pd.DataFrame([[time, sat_gal['sv'][i], TEC_i]], columns = ['sv', 'time', 'TEC'])\n",
    "    delays = delays.append(new_row)\n",
    "\n",
    "delays = delays.reset_index().drop(columns=['index'])\n",
    "\n",
    "sat_gal['TEC'] = delays['TEC']"
   ]
  },
  {
   "cell_type": "code",
   "execution_count": null,
   "id": "ba642e53",
   "metadata": {},
   "outputs": [],
   "source": []
  },
  {
   "cell_type": "code",
   "execution_count": null,
   "id": "34817d3b",
   "metadata": {},
   "outputs": [],
   "source": [
    "cutoff = 5\n",
    "results = pp.pointPositioning2(sat, nav_path, obs_path, cutoff)"
   ]
  },
  {
   "cell_type": "code",
   "execution_count": null,
   "id": "2637083f",
   "metadata": {},
   "outputs": [],
   "source": [
    "M0SE_cart = [4642432.701789316, 1028629.1051167124, 4236854.058403561]\n",
    "results['xs'] = results['xr']\n",
    "results['ys'] = results['yr']\n",
    "results['zs'] = results['zr']\n",
    "results_LC = trf.GCtoLC(M0SE_cart, results)"
   ]
  },
  {
   "cell_type": "code",
   "execution_count": null,
   "id": "902ee32c",
   "metadata": {},
   "outputs": [],
   "source": [
    "easyPlot.getPlot(results_LC, 'time', 'E', 'red')\n",
    "easyPlot.getPlot(results_LC, 'time', 'N', 'blue')\n",
    "easyPlot.getPlot(results_LC, 'time', 'U', 'green')\n",
    "\n",
    "fig, ax = plt.subplots(figsize=(10,6))\n",
    "ax.plot(results['datetime'], results['dtr_GPS'], '-', color='orange')\n",
    "ax.plot(results['datetime'], results['dtr_GAL'], '-', color='purple')\n",
    "#ax.plot(results['datetime'], results['dtr_GAL']-results['dtr_GPS'], '-', color='red')\n",
    "ax.set(xlabel='time', ylabel='dtr', title = 'Time-dtr')\n",
    "o_patch = mpatches.Patch(color='orange', label='dtr GPS')\n",
    "p_patch = mpatches.Patch(color='purple', label='dtr GAL')\n",
    "ax.xaxis.set_major_locator(mdates.HourLocator(interval=2))\n",
    "ax.xaxis.set_major_formatter(DateFormatter(\"%H-%M\"))\n",
    "plt.legend(handles=[p_patch, o_patch])\n",
    "plt.show()"
   ]
  },
  {
   "cell_type": "code",
   "execution_count": null,
   "id": "7966ee3e",
   "metadata": {},
   "outputs": [],
   "source": [
    "def getPlot(res, x, y, col):\n",
    "    fig, ax = plt.subplots(figsize=(10,6))\n",
    "    ax.plot(res[x], res[y], 'o',\n",
    "            color=col)\n",
    "    ax.set(xlabel=x, ylabel=y, title = 'Time '+y)\n",
    "    ax.xaxis.set_major_locator(mdates.HourLocator(interval=2))\n",
    "    ax.xaxis.set_major_formatter(DateFormatter(\"%H-%M\"))\n",
    "    plt.show()\n",
    "\n",
    "sat_i = sat[sat['sv'] == 'E01'].reset_index()\n",
    "getPlot(sat_i, 'time', 'iono_delay', 'magenta')\n",
    "\n",
    "sat_i_LC = trf.GCtoLC(M0SE_cart, sat_i)\n",
    "sat_i_LC['iono_delay'] = sat_i['iono_delay']\n",
    "sat_i_LC['time'] = sat_i['time']\n",
    "sat_i_LC['hd'] = np.sqrt(sat_i_LC['E']**2 + sat_i_LC['U']**2)\n",
    "\n",
    "elevation, azimuth = [], []\n",
    "\n",
    "for i in range(len(sat_i_LC)):\n",
    "    if sat_i_LC['hd'][i] < 0.1:\n",
    "        Az = 0\n",
    "        El = 90\n",
    "    else:\n",
    "        Az = trf.radToDeg(np.arctan2(sat_i_LC['E'][i],sat_i_LC['N'][i]))\n",
    "        El = trf.radToDeg(np.arctan2(sat_i_LC['U'][i],sat_i_LC['hd'][i]))\n",
    "    azimuth.append(Az)\n",
    "    elevation.append(El)\n",
    "\n",
    "sat_i_LC['Az'] = azimuth\n",
    "sat_i_LC['El'] = elevation\n",
    "\n",
    "#sat_i_LC = sat_i_LC.sort_values('tme', ascending=True).reset_index()\n",
    "\n",
    "getPlot(sat_i_LC, 'El', 'iono_delay', 'blue')\n"
   ]
  },
  {
   "cell_type": "code",
   "execution_count": null,
   "id": "202d9d22",
   "metadata": {},
   "outputs": [],
   "source": [
    "sat_i_LC = sat_i_LC.sort_values('tme', ascending=True).reset_index()\n",
    "getPlot(sat_i_LC, 'time', 'El', 'pink')\n",
    "for i in range(len(sat_i_LC)):\n",
    "    print(sat_i_LC['time'][i], ' El: ', sat_i_LC['El'][i], ' IONO: ', sat_i_LC['iono_delay'][i] )"
   ]
  },
  {
   "cell_type": "code",
   "execution_count": null,
   "id": "0933554d",
   "metadata": {},
   "outputs": [],
   "source": [
    "fig, ax = plt.subplots(figsize=(10,6))\n",
    "ax.plot(sat_i_LC['time'], sat_i_LC['El'], 'o', color='pink')\n",
    "ax.plot(sat_i_LC['time'], sat_i_LC['iono_delay'], 'o', color='magenta')\n",
    "ax.set(xlabel='time', ylabel='iono delay/elevation', title = 'Time - iono/El')\n",
    "o_patch = mpatches.Patch(color='pink', label='Elevation')\n",
    "p_patch = mpatches.Patch(color='magenta', label='NeQuickG')\n",
    "ax.xaxis.set_major_locator(mdates.HourLocator(interval=2))\n",
    "ax.xaxis.set_major_formatter(DateFormatter(\"%H-%M\"))\n",
    "plt.legend(handles=[p_patch, o_patch])\n",
    "plt.show()"
   ]
  },
  {
   "cell_type": "markdown",
   "id": "1c69cc6d",
   "metadata": {},
   "source": [
    "# Load with georinex library of nav and obs rinex info"
   ]
  },
  {
   "cell_type": "code",
   "execution_count": null,
   "id": "503f94b4",
   "metadata": {},
   "outputs": [],
   "source": [
    "# Loading of GPS navigation parameters from NAV RINEX\n",
    "param_gps = gr.load(nav_path)\n",
    "df_gps = param_gps.to_dataframe()\n",
    "df_gps = ((df_gps.dropna()).sort_values(by=['time'], ascending = True)).reset_index()\n",
    "# Corrupted timestamps are corrected\n",
    "df_gps = fn.fixTime(df_gps)\n",
    "\n",
    "# Loading of GPS code observations in a DataSet\n",
    "obs = gr.load(obs_path)\n",
    "\n",
    "data = df_gps['time'][0]"
   ]
  },
  {
   "cell_type": "code",
   "execution_count": null,
   "id": "20378a9b",
   "metadata": {},
   "outputs": [],
   "source": [
    "print(obs.to_dataframe())"
   ]
  },
  {
   "cell_type": "code",
   "execution_count": null,
   "id": "fb18c509",
   "metadata": {},
   "outputs": [],
   "source": []
  },
  {
   "cell_type": "code",
   "execution_count": null,
   "id": "2704f77d",
   "metadata": {},
   "outputs": [],
   "source": [
    "# Definition of time range in which we want to carry out the analysis (get Satellite position, velocity and clockoffset and\n",
    "# perform Point Positioning)\n",
    "time_range = []\n",
    "\n",
    "START = df_gps['time'].min()\n",
    "END = dtt.strptime('2021-05-27 00:00:00', '%Y-%m-%d %H:%M:%S')\n",
    "t = START\n",
    "while t <= END:\n",
    "    time_range.append(t)\n",
    "    t = t + datetime.timedelta(minutes=5)\n",
    "mask_par = df_gps['time'] <= END\n",
    "df_gps = df_gps[mask_par].reset_index().drop(columns=['index'])\n",
    "    \n",
    "# List of the timestamps of the available observation (we can perform Point Positioning only when we have sufficient \n",
    "# code observations)\n",
    "time_obs = obs.time.to_dataframe()['time'].tolist()"
   ]
  },
  {
   "cell_type": "markdown",
   "id": "4e33eeb2",
   "metadata": {},
   "source": [
    "# Satellites positions, velocities and clock offsets"
   ]
  },
  {
   "cell_type": "code",
   "execution_count": null,
   "id": "880e9d04",
   "metadata": {},
   "outputs": [],
   "source": [
    "# Definition of the empty DataFrame that will contain the results\n",
    "satellites = pd.DataFrame(columns = ['time', 'sv', 'xs', 'ys', 'zs', 'xs_dot', 'ys_dot', 'zs_dot', 'ts', 'C1'])\n",
    "\n",
    "for w in time_range:\n",
    "    # The list of satellites, whose parameter we want to estimate, is obtained from the available observations:\n",
    "    # for each instant of time in time_range we select the in-view satellite\n",
    "    # their position, velocity and clock offset are the computed\n",
    "    if w in time_obs:\n",
    "        obs_tk = (obs.sel(time = w)).to_dataframe().reset_index()\n",
    "        obs_tk = obs_tk[['time', 'sv', 'C1']].dropna().reset_index()\n",
    "        available_sat = (obs_tk['sv']).to_list()\n",
    "        if len(available_sat) > 0:\n",
    "            for sv_i in available_sat:\n",
    "                # Every satellite in view at the considered epoch is associated with the parameter slot \n",
    "                # to which it belongs through the getPar function\n",
    "                sat_par = fn.getPar(sv_i, w, df_gps)\n",
    "                # If the navigation parameters are available:\n",
    "                if type(sat_par) == pd.core.frame.DataFrame:\n",
    "                    sat = fn.satPosVel(sat_par).reset_index()\n",
    "                    sat = sat.merge(obs_tk, on = ['sv', 'time'], how = 'left')\n",
    "                    satellites = satellites.append(sat)\n",
    "        \n",
    "satellites = satellites.reset_index()\n",
    "satellites = satellites[['time', 'sv', 'xs', 'ys', 'zs', 'xs_dot', 'ys_dot', 'zs_dot', 'ts', 'C1']]\n",
    "\n",
    "print(satellites)"
   ]
  },
  {
   "cell_type": "code",
   "execution_count": null,
   "id": "b04d054c",
   "metadata": {},
   "outputs": [],
   "source": [
    "satellites['P1'] = satellites['C1']"
   ]
  },
  {
   "cell_type": "markdown",
   "id": "e31d6fea",
   "metadata": {},
   "source": [
    "# Check on satellites' position and clock offsets"
   ]
  },
  {
   "cell_type": "code",
   "execution_count": null,
   "id": "029db5f4",
   "metadata": {},
   "outputs": [],
   "source": [
    "confronto = fn.checkSatPos(satellites, eph_path)"
   ]
  },
  {
   "cell_type": "markdown",
   "id": "4788a76c",
   "metadata": {},
   "source": [
    "# Check on satellites' velocity"
   ]
  },
  {
   "cell_type": "code",
   "execution_count": null,
   "id": "3b2f2eb2",
   "metadata": {},
   "outputs": [],
   "source": [
    "velocita = fn.checkSatVel(satellites, df_gps)"
   ]
  },
  {
   "cell_type": "markdown",
   "id": "89bb5bc1",
   "metadata": {},
   "source": [
    "# Point Positioning"
   ]
  },
  {
   "cell_type": "code",
   "execution_count": null,
   "id": "992937b7",
   "metadata": {},
   "outputs": [],
   "source": [
    "# Alpha and Beta paramethers for computing Ionosphere correction are read from nav RINEX through an apposite function\n",
    "ionoParams = RINEXreader.getIonoParams(nav_path)\n",
    "print('Inosphere parameters: ', ionoParams)\n",
    "\n",
    "# Definition of the initial position of the receiver (from OBS RINEX)\n",
    "R_0 = RINEXreader.getStartPos(obs_path)\n",
    "\n",
    "# Performing of Point Positioning with the apposite function\n",
    "results = pp.pointPositioning(satellites, R_0, ionoParams, cutoff)\n",
    "\n",
    "print(results)"
   ]
  },
  {
   "cell_type": "code",
   "execution_count": null,
   "id": "e34b7de9",
   "metadata": {},
   "outputs": [],
   "source": [
    "print('Statistical analysis on Point Positioning results:')\n",
    "print('Mean values: ')\n",
    "print('XR: ', results['xr'].mean())\n",
    "print('YR: ', results['yr'].mean())\n",
    "print('ZR: ', results['zr'].mean())\n",
    "print('dtR: ', results['dtr'].mean())\n",
    "\n",
    "print('Standard deviation: ')\n",
    "print('XR: ', results['xr'].std())\n",
    "print('YR: ', results['yr'].std())\n",
    "print('ZR: ', results['zr'].std())\n",
    "print('dtR: ', results['dtr'].std())"
   ]
  },
  {
   "cell_type": "markdown",
   "id": "149bad94",
   "metadata": {},
   "source": [
    "# Transformation in Local Cartesian"
   ]
  },
  {
   "cell_type": "code",
   "execution_count": null,
   "id": "a8dd81b3",
   "metadata": {},
   "outputs": [],
   "source": [
    "# Coordinates of the receiver, Milan Permanent Station, reference: SPIN3GNSS\n",
    "#P0_g = [45.478368630552694, 9.229212872263435, 191.12520962953568]\n",
    "#P0_cart = trf.geodToCart(45.478368630552694, 9.229212872263435, 191.12520962953568)\n",
    "\n",
    "#Zimmerwald\n",
    "P0_cart = [4331300.16, 567537.08, 4633133.51]\n",
    "P0_g = trf.cartToGeod(4331300.16, 567537.08, 4633133.51)\n",
    "\n",
    "results_LC = pd.DataFrame()\n",
    "results_LC['dx'] = results['xr'] - P0_cart[0]\n",
    "results_LC['dy'] = results['yr'] - P0_cart[1]\n",
    "results_LC['dz'] = results['zr'] - P0_cart[2]\n",
    "\n",
    "E=[]\n",
    "N=[]\n",
    "U=[]\n",
    "\n",
    "lat0 = trf.degToRad(P0_g[0])\n",
    "lon0 = trf.degToRad(P0_g[1])\n",
    "\n",
    "# Definition of the rotation matrix\n",
    "R = np.array([ [-np.sin(lon0), np.cos(lon0), 0],\n",
    "                [-np.sin(lat0)*np.cos(lon0), -np.sin(lat0)*np.sin(lon0), np.cos(lat0)],\n",
    "                [np.cos(lat0)*np.cos(lon0), np.cos(lat0)*np.sin(lon0), np.sin(lat0)]\n",
    "                ])\n",
    "\n",
    "for i in range(len(results_LC)):\n",
    "    delta_array_i = np.array([[results_LC['dx'][i]], [results_LC['dy'][i]], [results_LC['dz'][i]]])\n",
    "    ENU =np.dot(R, delta_array_i)\n",
    "    E.append(ENU[0][0])\n",
    "    N.append(ENU[1][0])\n",
    "    U.append(ENU[2][0])\n",
    "\n",
    "results_LC['E'] = E\n",
    "results_LC['N'] = N\n",
    "results_LC['U'] = U\n",
    "results_LC['time'] = results['datetime']\n",
    "results_LC = results_LC.reset_index()"
   ]
  },
  {
   "cell_type": "code",
   "execution_count": null,
   "id": "6b673ce7",
   "metadata": {},
   "outputs": [],
   "source": [
    "print('MEDIA ERRORI:')\n",
    "print('Est: ', results_LC['E'].mean(), '\\n',\n",
    "      'Nord: ', results_LC['N'].mean(), '\\n',\n",
    "      'Quota: ', results_LC['U'].mean() )\n",
    "\n",
    "print('DEVIAZIONE STANDARD:', '\\n',\n",
    "      'Est: ', results_LC['E'].std(), '\\n',\n",
    "      'Nord: ', results_LC['N'].std(), '\\n',\n",
    "      'Quota: ', results_LC['U'].std() )\n",
    "\n",
    "print('Valori Massimi:', '\\n',\n",
    "      'Est: ', abs(results_LC['E']).max(), '\\n',\n",
    "      'Nord: ', abs(results_LC['N']).max(), '\\n',\n",
    "      'Quota: ', abs(results_LC['U']).max() )"
   ]
  },
  {
   "cell_type": "code",
   "execution_count": null,
   "id": "fdf9a842",
   "metadata": {},
   "outputs": [],
   "source": [
    "fig, ax = plt.subplots(figsize=(10,6))\n",
    "ax.plot(results_LC['time'], results_LC['E'],\n",
    "        '-',\n",
    "        color='red')\n",
    "ax.set(xlabel=\"Time\", ylabel='EAST', title = 'Time-EAST')\n",
    "ax.xaxis.set_major_locator(mdates.HourLocator(interval=2))\n",
    "ax.xaxis.set_major_formatter(DateFormatter(\"%H-%M\"))\n",
    "plt.show()"
   ]
  },
  {
   "cell_type": "code",
   "execution_count": null,
   "id": "100e33b0",
   "metadata": {},
   "outputs": [],
   "source": [
    "fig, ax = plt.subplots(figsize=(10,6))\n",
    "ax.plot(results_LC['time'], results_LC['N'],\n",
    "        '-',\n",
    "        color='blue')\n",
    "ax.set(xlabel=\"Time\", ylabel='NORTH', title = 'Time-NORTH')\n",
    "ax.xaxis.set_major_locator(mdates.HourLocator(interval=2))\n",
    "ax.xaxis.set_major_formatter(DateFormatter(\"%H-%M\"))\n",
    "plt.show()"
   ]
  },
  {
   "cell_type": "code",
   "execution_count": null,
   "id": "f152ecc0",
   "metadata": {},
   "outputs": [],
   "source": [
    "fig, ax = plt.subplots(figsize=(10,6))\n",
    "ax.plot(results_LC['time'], results_LC['U'],\n",
    "        '-',\n",
    "        color='green')\n",
    "ax.set(xlabel=\"Time\", ylabel='UP', title = 'Time-UP')\n",
    "ax.xaxis.set_major_locator(mdates.HourLocator(interval=2))\n",
    "ax.xaxis.set_major_formatter(DateFormatter(\"%H-%M\"))\n",
    "plt.show()"
   ]
  },
  {
   "cell_type": "code",
   "execution_count": null,
   "id": "e9ae63c7",
   "metadata": {},
   "outputs": [],
   "source": []
  }
 ],
 "metadata": {
  "kernelspec": {
   "display_name": "Python 3",
   "language": "python",
   "name": "python3"
  },
  "language_info": {
   "codemirror_mode": {
    "name": "ipython",
    "version": 3
   },
   "file_extension": ".py",
   "mimetype": "text/x-python",
   "name": "python",
   "nbconvert_exporter": "python",
   "pygments_lexer": "ipython3",
   "version": "3.7.6"
  }
 },
 "nbformat": 4,
 "nbformat_minor": 5
}
