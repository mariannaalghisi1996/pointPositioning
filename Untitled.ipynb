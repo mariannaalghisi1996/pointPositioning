{
 "cells": [
  {
   "cell_type": "code",
   "execution_count": 1,
   "id": "f6295564",
   "metadata": {},
   "outputs": [],
   "source": [
    "import functions as fn\n",
    "import pandas as pd\n",
    "import datetime as datetime\n",
    "from datetime import datetime as dtt"
   ]
  },
  {
   "cell_type": "code",
   "execution_count": 2,
   "id": "cd3c34d9",
   "metadata": {},
   "outputs": [],
   "source": [
    "nav_path = 'C:/git/pointPositioning/pointPositioning/mose_nav.rnx'\n",
    "obs_path = 'C:/git/pointPositioning/pointPositioning/mose_obs.crx'"
   ]
  },
  {
   "cell_type": "code",
   "execution_count": 3,
   "id": "fda1198b",
   "metadata": {},
   "outputs": [],
   "source": [
    "time_range = []\n",
    "START = dtt.strptime('2021-05-06 00:00:00', '%Y-%m-%d %H:%M:%S')\n",
    "END = dtt.strptime('2021-05-06 23:45:00', '%Y-%m-%d %H:%M:%S')\n",
    "t = START\n",
    "while t <= END:\n",
    "    time_range.append(t)\n",
    "    t = t + datetime.timedelta(minutes=5)"
   ]
  },
  {
   "cell_type": "code",
   "execution_count": 4,
   "id": "bb6820f9",
   "metadata": {},
   "outputs": [
    {
     "name": "stderr",
     "output_type": "stream",
     "text": [
      "C:\\git\\pointPositioning\\pointPositioning\\functions.py:20: SettingWithCopyWarning: \n",
      "A value is trying to be set on a copy of a slice from a DataFrame\n",
      "\n",
      "See the caveats in the documentation: https://pandas.pydata.org/pandas-docs/stable/user_guide/indexing.html#returning-a-view-versus-a-copy\n",
      "  df['time'][i] = t\n"
     ]
    }
   ],
   "source": [
    "sat_galileo = fn.getGALILEOorbits(nav_path, obs_path, time_range)"
   ]
  },
  {
   "cell_type": "code",
   "execution_count": 6,
   "id": "6f73e461",
   "metadata": {},
   "outputs": [
    {
     "name": "stderr",
     "output_type": "stream",
     "text": [
      "C:\\git\\pointPositioning\\pointPositioning\\functions.py:20: SettingWithCopyWarning: \n",
      "A value is trying to be set on a copy of a slice from a DataFrame\n",
      "\n",
      "See the caveats in the documentation: https://pandas.pydata.org/pandas-docs/stable/user_guide/indexing.html#returning-a-view-versus-a-copy\n",
      "  df['time'][i] = t\n"
     ]
    }
   ],
   "source": [
    "#sat_gps = fn.getGPSorbits(nav_path, obs_path, time_range)"
   ]
  },
  {
   "cell_type": "code",
   "execution_count": 7,
   "id": "fe74d9c3",
   "metadata": {},
   "outputs": [],
   "source": [
    "#satellites = pd.concat([sat_gps, sat_galileo])"
   ]
  },
  {
   "cell_type": "code",
   "execution_count": 10,
   "id": "d060ffa0",
   "metadata": {},
   "outputs": [],
   "source": [
    "sat_galileo['P1'] = sat_galileo['C1C']"
   ]
  },
  {
   "cell_type": "code",
   "execution_count": 15,
   "id": "505eecb7",
   "metadata": {},
   "outputs": [],
   "source": [
    "#satellites.to_csv('test_sat.csv')"
   ]
  },
  {
   "cell_type": "code",
   "execution_count": 30,
   "id": "357dcc70",
   "metadata": {},
   "outputs": [],
   "source": [
    "import georinex as gr\n",
    "\n",
    "hdr_obs = gr.rinexheader(obs_path)"
   ]
  },
  {
   "cell_type": "code",
   "execution_count": 31,
   "id": "9bf42908",
   "metadata": {},
   "outputs": [],
   "source": [
    "R0 = hdr_obs.get('position')\n",
    "for i in range(len(R0)):\n",
    "    R0[i] = float(R0[i])"
   ]
  },
  {
   "cell_type": "code",
   "execution_count": 32,
   "id": "073051d8",
   "metadata": {},
   "outputs": [],
   "source": [
    "def saastamoinenModel (h, eta):\n",
    "    if (h > -500) and (h < 5000):\n",
    "        eta #satellite elevation in radians\n",
    "        Po = 1013.25 #mBar\n",
    "        To = 291.15 #degree Kelvin\n",
    "        Ho = 50/100\n",
    "        ho = 0\n",
    "        height = h - ho # h is the ellipsoidal height of the receiver\n",
    "        Pr = Po * (1-0.0000226 * height)**5.225 #pressure\n",
    "        Tr = To - 0.0065 * height #temperature\n",
    "        Hr = Ho * math.exp(-0.0006396 * height)\n",
    "        er = Hr * math.exp(-37.2465 + (0.213166 * Tr) - 0.000256908 * (Tr)**2) #humidity\n",
    "        tropoDelay = 0.002277 / math.sin(eta) * (Pr + er * (1255/Tr + 0.05) - (math.tan(eta)) ** -2)\n",
    "        return tropoDelay\n",
    "    else:\n",
    "        tropoDelay = 0\n",
    "        return tropoDelay"
   ]
  },
  {
   "cell_type": "code",
   "execution_count": 35,
   "id": "7413bb21",
   "metadata": {},
   "outputs": [],
   "source": [
    "import numpy as np\n",
    "import math\n",
    "import transformations as trf\n",
    "\n",
    "def pointPositioning(satellites, R_0, cutoff):\n",
    "    iter_max = 20\n",
    "    omega_dot_E = 7.2921151467*0.00001 #rad/sec\n",
    "    c = 2.99792458 * 10**8\n",
    "    #alpha = ionoParams[0]\n",
    "    #beta = ionoParams[1]\n",
    "    \n",
    "    all_times = []\n",
    "    for p in satellites['time']:\n",
    "        if (p not in all_times and p.second == 0):\n",
    "            all_times.append(p)\n",
    "        \n",
    "    results_cart = pd.DataFrame(columns = ['datetime', 'xr', 'yr', 'zr', 'dtr', 'in_view_sat'])\n",
    "    \n",
    "    for w in all_times:\n",
    "        mask = satellites['time'] == w\n",
    "        obs_tk = satellites[mask].reset_index().drop(columns=['index'])\n",
    "        \n",
    "        if len(obs_tk) > 4:\n",
    "            start_day = w.day - w.weekday() - 1\n",
    "            t = (w.day - start_day)*24*3600 + w.hour*3600 + w.minute*60 + w.second\n",
    "            xr = R_0[0]\n",
    "            yr = R_0[1]\n",
    "            zr = R_0[2]\n",
    "        \n",
    "            dtr = 0\n",
    "        \n",
    "            for itr in range(iter_max):\n",
    "                Xr_v = np.array([[xr], [yr], [zr]])\n",
    "                R0_g = trf.cartToGeod(xr, yr, zr)\n",
    "                lat0 = trf.degToRad(R0_g[0])\n",
    "                lon0 = trf.degToRad(R0_g[1])\n",
    "                h0 = R0_g[2]\n",
    "                R = np.array([ [-np.sin(lon0), np.cos(lon0), 0],\n",
    "                    [-np.sin(lat0)*np.cos(lon0), -np.sin(lat0)*np.sin(lon0), np.cos(lat0)],\n",
    "                    [np.cos(lat0)*np.cos(lon0), np.cos(lat0)*np.sin(lon0), np.sin(lat0)]\n",
    "                    ])\n",
    "                azimuth = []\n",
    "                elevation = []\n",
    "                for i in range(len(obs_tk)):\n",
    "                    xs = obs_tk['xs'][i]\n",
    "                    ys = obs_tk['ys'][i]\n",
    "                    zs = obs_tk['zs'][i]\n",
    "                    Xs = np.array([[xs],[ys],[zs]])\n",
    "                    delta_X = Xs - Xr_v\n",
    "                    ENU_s = np.dot(R, delta_X)\n",
    "                    E = ENU_s[0][0]\n",
    "                    N = ENU_s[1][0]\n",
    "                    U = ENU_s[2][0]\n",
    "                    hor_dis = np.sqrt(E*E + N*N)\n",
    "                    if hor_dis < 0.1:\n",
    "                        Az = 0\n",
    "                        El = 90\n",
    "                    else:\n",
    "                        Az = trf.radToDeg(np.arctan(E/N))\n",
    "                        El = trf.radToDeg(np.arctan2(U,hor_dis))\n",
    "                    azimuth.append(Az)\n",
    "                    elevation.append(El)\n",
    "                obs_tk['Az_S'] = azimuth\n",
    "                obs_tk['El_S'] = elevation\n",
    "            \n",
    "                obs_tk = obs_tk[obs_tk['El_S']>=cutoff].reset_index().drop(columns=['index'])\n",
    "            \n",
    "                # Realizzazione matrice A e vettore parametri noti b\n",
    "                A = []\n",
    "                #iono = []\n",
    "                tropo = []\n",
    "                b = []\n",
    "                sin_el = []\n",
    "                all_sv = []\n",
    "            \n",
    "                for z in range(len(obs_tk)):\n",
    "                    xs = obs_tk['xs'][z]\n",
    "                    ys = obs_tk['ys'][z]\n",
    "                    zs = obs_tk['zs'][z]\n",
    "                    xs_dot = obs_tk['xs_dot'][z]\n",
    "                    ys_dot = obs_tk['ys_dot'][z]\n",
    "                    zs_dot = obs_tk['zs_dot'][z]\n",
    "                    ts = obs_tk['ts'][z]\n",
    "                    Xs_v = np.array([[xs], [ys], [zs]])\n",
    "                    Xs_dot_v = np.array([[xs_dot], [ys_dot], [zs_dot]])\n",
    "                    ro_double = (xs - xr)*(xs - xr) + (ys - yr)*(ys - yr) + (zs - zr)*(zs - zr)\n",
    "                    ro_approx = np.sqrt(ro_double)\n",
    "                    e_rs = (Xr_v - Xs_v)/ro_approx\n",
    "                    prod_vett = Xs_dot_v + np.array([[-omega_dot_E*ys], [omega_dot_E*xs], [0]])\n",
    "                    alpha_1 = -(e_rs[0][0]*prod_vett[0][0] +  e_rs[1][0]*prod_vett[1][0] + e_rs[2][0]*prod_vett[2][0])\n",
    "                    alpha_2 = -(e_rs[0][0]*Xs_dot_v[0][0] + e_rs[1][0]*Xs_dot_v[1][0] + e_rs[2][0]*Xs_dot_v[2][0])\n",
    "                    k_1 = 1 - alpha_1/c + alpha_1*alpha_1/(c*c)\n",
    "                    k_2 = -alpha_2 + alpha_1*alpha_2/c\n",
    "                    # effetto relativistico\n",
    "                    eff_R = 2*(xs*xs_dot + ys*ys_dot + zs*zs_dot)/c\n",
    "                    # Iono correction\n",
    "                    #iono_j = ionoCorrection(trf.radToDeg(lat0), trf.radToDeg(lon0), obs_tk['Az_S'][z], obs_tk['El_S'][z], t, alpha, beta)\n",
    "                    el_j = trf.degToRad(obs_tk['El_S'][z])\n",
    "                    tropo_j = saastamoinenModel(h0, el_j)\n",
    "                    # calcolo b per il j-esimo satellite\n",
    "                    b_j = k_1*ro_approx - c*ts + eff_R + tropo_j\n",
    "                    b.append([b_j]) \n",
    "                    A.append([k_1*e_rs[0][0], k_1*e_rs[1][0], k_1*e_rs[2][0], (k_2 + c)/c ])\n",
    "                    #iono.append(iono_j)\n",
    "                    tropo.append(tropo_j)\n",
    "                    all_sv.append(obs_tk['sv'][z])\n",
    "                    sin_el.append([1/np.sin(el_j)])\n",
    "                \n",
    "                \n",
    "                # Termini noti\n",
    "                P1 = (np.array([obs_tk['P1'].to_list()])).transpose()\n",
    "                b = np.array(b)\n",
    "                A = np.array(A)\n",
    "                sin_el = np.array(sin_el)\n",
    "                dP1_oss = P1 - b\n",
    "                Q = np.identity(len(obs_tk))*sin_el\n",
    "                Q_inv = np.linalg.inv(Q)\n",
    "                A_t = A.transpose()\n",
    "                N = np.dot(np.dot(A_t, Q_inv), A)\n",
    "                N_inv = np.linalg.inv(N)\n",
    "            \n",
    "                # Stima delle incognite\n",
    "                incognite_stima = np.dot(np.dot(np.dot( N_inv, A_t), Q_inv), dP1_oss )\n",
    "            \n",
    "                xr = incognite_stima[0][0] + xr\n",
    "                yr = incognite_stima[1][0] + yr\n",
    "                zr = incognite_stima[2][0] + zr\n",
    "                dtr = incognite_stima[3][0]/c\n",
    "            \n",
    "            new_row = pd.DataFrame([[w, xr, yr, zr, dtr, len(obs_tk)]], columns=['datetime', 'xr', 'yr', 'zr', 'dtr', 'in_view_sat'])\n",
    "            print(w, 'ok')\n",
    "            results_cart = results_cart.append(new_row)\n",
    "\n",
    "    \n",
    "    results_cart = results_cart.reset_index()\n",
    "    return results_cart"
   ]
  },
  {
   "cell_type": "code",
   "execution_count": 54,
   "id": "a4cdf265",
   "metadata": {},
   "outputs": [
    {
     "name": "stdout",
     "output_type": "stream",
     "text": [
      "2021-05-06 00:05:00 ok\n",
      "2021-05-06 00:10:00 ok\n",
      "2021-05-06 00:15:00 ok\n",
      "2021-05-06 00:20:00 ok\n",
      "2021-05-06 00:25:00 ok\n",
      "2021-05-06 00:30:00 ok\n",
      "2021-05-06 00:35:00 ok\n",
      "2021-05-06 00:40:00 ok\n",
      "2021-05-06 00:45:00 ok\n",
      "2021-05-06 00:50:00 ok\n",
      "2021-05-06 00:55:00 ok\n",
      "2021-05-06 01:00:00 ok\n",
      "2021-05-06 01:05:00 ok\n",
      "2021-05-06 01:10:00 ok\n",
      "2021-05-06 01:15:00 ok\n",
      "2021-05-06 01:20:00 ok\n",
      "2021-05-06 01:25:00 ok\n",
      "2021-05-06 01:30:00 ok\n",
      "2021-05-06 01:35:00 ok\n",
      "2021-05-06 01:40:00 ok\n",
      "2021-05-06 01:45:00 ok\n",
      "2021-05-06 01:50:00 ok\n",
      "2021-05-06 01:55:00 ok\n",
      "2021-05-06 02:00:00 ok\n",
      "2021-05-06 02:05:00 ok\n",
      "2021-05-06 02:10:00 ok\n",
      "2021-05-06 02:15:00 ok\n",
      "2021-05-06 02:20:00 ok\n",
      "2021-05-06 02:25:00 ok\n",
      "2021-05-06 02:30:00 ok\n",
      "2021-05-06 02:35:00 ok\n",
      "2021-05-06 02:40:00 ok\n",
      "2021-05-06 02:45:00 ok\n",
      "2021-05-06 02:50:00 ok\n",
      "2021-05-06 02:55:00 ok\n",
      "2021-05-06 03:00:00 ok\n",
      "2021-05-06 03:05:00 ok\n",
      "2021-05-06 03:10:00 ok\n",
      "2021-05-06 03:15:00 ok\n",
      "2021-05-06 03:20:00 ok\n",
      "2021-05-06 03:25:00 ok\n",
      "2021-05-06 03:30:00 ok\n",
      "2021-05-06 03:35:00 ok\n",
      "2021-05-06 03:40:00 ok\n",
      "2021-05-06 03:45:00 ok\n",
      "2021-05-06 03:50:00 ok\n",
      "2021-05-06 03:55:00 ok\n",
      "2021-05-06 04:00:00 ok\n",
      "2021-05-06 04:05:00 ok\n",
      "2021-05-06 04:10:00 ok\n",
      "2021-05-06 04:15:00 ok\n",
      "2021-05-06 04:20:00 ok\n",
      "2021-05-06 04:35:00 ok\n",
      "2021-05-06 04:40:00 ok\n",
      "2021-05-06 04:45:00 ok\n",
      "2021-05-06 04:50:00 ok\n",
      "2021-05-06 04:55:00 ok\n",
      "2021-05-06 05:00:00 ok\n",
      "2021-05-06 05:05:00 ok\n",
      "2021-05-06 05:10:00 ok\n",
      "2021-05-06 05:15:00 ok\n",
      "2021-05-06 05:20:00 ok\n",
      "2021-05-06 05:25:00 ok\n",
      "2021-05-06 05:30:00 ok\n",
      "2021-05-06 05:35:00 ok\n",
      "2021-05-06 05:40:00 ok\n",
      "2021-05-06 05:45:00 ok\n",
      "2021-05-06 05:50:00 ok\n",
      "2021-05-06 05:55:00 ok\n",
      "2021-05-06 06:00:00 ok\n",
      "2021-05-06 06:05:00 ok\n",
      "2021-05-06 06:10:00 ok\n",
      "2021-05-06 06:15:00 ok\n",
      "2021-05-06 06:20:00 ok\n",
      "2021-05-06 06:25:00 ok\n",
      "2021-05-06 06:30:00 ok\n",
      "2021-05-06 06:40:00 ok\n",
      "2021-05-06 06:45:00 ok\n",
      "2021-05-06 06:50:00 ok\n",
      "2021-05-06 06:55:00 ok\n",
      "2021-05-06 07:00:00 ok\n",
      "2021-05-06 07:05:00 ok\n",
      "2021-05-06 07:10:00 ok\n",
      "2021-05-06 07:15:00 ok\n",
      "2021-05-06 07:20:00 ok\n",
      "2021-05-06 07:25:00 ok\n",
      "2021-05-06 07:30:00 ok\n",
      "2021-05-06 07:35:00 ok\n",
      "2021-05-06 07:40:00 ok\n",
      "2021-05-06 07:45:00 ok\n",
      "2021-05-06 07:50:00 ok\n",
      "2021-05-06 08:05:00 ok\n",
      "2021-05-06 08:10:00 ok\n",
      "2021-05-06 08:15:00 ok\n",
      "2021-05-06 08:20:00 ok\n",
      "2021-05-06 08:25:00 ok\n",
      "2021-05-06 08:30:00 ok\n",
      "2021-05-06 08:35:00 ok\n",
      "2021-05-06 08:40:00 ok\n",
      "2021-05-06 08:45:00 ok\n",
      "2021-05-06 08:50:00 ok\n",
      "2021-05-06 08:55:00 ok\n",
      "2021-05-06 09:00:00 ok\n",
      "2021-05-06 09:05:00 ok\n",
      "2021-05-06 09:10:00 ok\n",
      "2021-05-06 09:15:00 ok\n",
      "2021-05-06 09:20:00 ok\n",
      "2021-05-06 09:25:00 ok\n",
      "2021-05-06 09:30:00 ok\n",
      "2021-05-06 09:35:00 ok\n",
      "2021-05-06 09:40:00 ok\n",
      "2021-05-06 09:45:00 ok\n",
      "2021-05-06 09:50:00 ok\n",
      "2021-05-06 09:55:00 ok\n",
      "2021-05-06 10:00:00 ok\n",
      "2021-05-06 10:05:00 ok\n",
      "2021-05-06 10:10:00 ok\n",
      "2021-05-06 10:15:00 ok\n",
      "2021-05-06 10:20:00 ok\n",
      "2021-05-06 10:25:00 ok\n",
      "2021-05-06 10:30:00 ok\n",
      "2021-05-06 10:35:00 ok\n",
      "2021-05-06 10:40:00 ok\n",
      "2021-05-06 10:45:00 ok\n",
      "2021-05-06 10:50:00 ok\n",
      "2021-05-06 10:55:00 ok\n",
      "2021-05-06 11:00:00 ok\n",
      "2021-05-06 11:35:00 ok\n",
      "2021-05-06 11:40:00 ok\n",
      "2021-05-06 11:45:00 ok\n",
      "2021-05-06 11:50:00 ok\n",
      "2021-05-06 11:55:00 ok\n",
      "2021-05-06 12:00:00 ok\n",
      "2021-05-06 12:05:00 ok\n",
      "2021-05-06 12:10:00 ok\n",
      "2021-05-06 12:15:00 ok\n",
      "2021-05-06 12:20:00 ok\n",
      "2021-05-06 12:25:00 ok\n",
      "2021-05-06 12:30:00 ok\n",
      "2021-05-06 12:35:00 ok\n",
      "2021-05-06 12:40:00 ok\n",
      "2021-05-06 12:45:00 ok\n",
      "2021-05-06 12:50:00 ok\n",
      "2021-05-06 12:55:00 ok\n",
      "2021-05-06 13:00:00 ok\n",
      "2021-05-06 13:05:00 ok\n",
      "2021-05-06 13:10:00 ok\n",
      "2021-05-06 13:15:00 ok\n",
      "2021-05-06 13:20:00 ok\n",
      "2021-05-06 13:25:00 ok\n",
      "2021-05-06 13:30:00 ok\n",
      "2021-05-06 13:35:00 ok\n",
      "2021-05-06 13:40:00 ok\n",
      "2021-05-06 13:45:00 ok\n",
      "2021-05-06 13:50:00 ok\n",
      "2021-05-06 13:55:00 ok\n",
      "2021-05-06 14:00:00 ok\n",
      "2021-05-06 14:05:00 ok\n",
      "2021-05-06 14:10:00 ok\n",
      "2021-05-06 14:15:00 ok\n",
      "2021-05-06 14:20:00 ok\n",
      "2021-05-06 14:25:00 ok\n",
      "2021-05-06 14:30:00 ok\n",
      "2021-05-06 14:45:00 ok\n",
      "2021-05-06 14:50:00 ok\n",
      "2021-05-06 14:55:00 ok\n",
      "2021-05-06 15:00:00 ok\n",
      "2021-05-06 15:05:00 ok\n",
      "2021-05-06 15:10:00 ok\n",
      "2021-05-06 15:15:00 ok\n",
      "2021-05-06 15:20:00 ok\n",
      "2021-05-06 15:25:00 ok\n",
      "2021-05-06 15:30:00 ok\n",
      "2021-05-06 16:25:00 ok\n",
      "2021-05-06 16:30:00 ok\n",
      "2021-05-06 16:35:00 ok\n",
      "2021-05-06 16:40:00 ok\n",
      "2021-05-06 16:45:00 ok\n",
      "2021-05-06 16:50:00 ok\n",
      "2021-05-06 17:05:00 ok\n",
      "2021-05-06 17:10:00 ok\n",
      "2021-05-06 17:15:00 ok\n",
      "2021-05-06 17:20:00 ok\n",
      "2021-05-06 17:25:00 ok\n",
      "2021-05-06 17:30:00 ok\n",
      "2021-05-06 17:35:00 ok\n",
      "2021-05-06 17:40:00 ok\n",
      "2021-05-06 17:45:00 ok\n",
      "2021-05-06 17:50:00 ok\n",
      "2021-05-06 17:55:00 ok\n",
      "2021-05-06 18:00:00 ok\n",
      "2021-05-06 18:05:00 ok\n",
      "2021-05-06 18:10:00 ok\n",
      "2021-05-06 18:15:00 ok\n",
      "2021-05-06 18:20:00 ok\n",
      "2021-05-06 18:25:00 ok\n",
      "2021-05-06 18:30:00 ok\n",
      "2021-05-06 18:35:00 ok\n",
      "2021-05-06 18:40:00 ok\n",
      "2021-05-06 18:45:00 ok\n",
      "2021-05-06 18:50:00 ok\n",
      "2021-05-06 18:55:00 ok\n",
      "2021-05-06 19:00:00 ok\n",
      "2021-05-06 19:05:00 ok\n",
      "2021-05-06 19:10:00 ok\n",
      "2021-05-06 19:15:00 ok\n",
      "2021-05-06 19:20:00 ok\n",
      "2021-05-06 19:25:00 ok\n",
      "2021-05-06 19:30:00 ok\n",
      "2021-05-06 19:35:00 ok\n",
      "2021-05-06 19:40:00 ok\n",
      "2021-05-06 19:45:00 ok\n",
      "2021-05-06 19:50:00 ok\n",
      "2021-05-06 19:55:00 ok\n",
      "2021-05-06 20:00:00 ok\n",
      "2021-05-06 20:05:00 ok\n",
      "2021-05-06 20:10:00 ok\n",
      "2021-05-06 20:15:00 ok\n",
      "2021-05-06 20:20:00 ok\n",
      "2021-05-06 20:25:00 ok\n",
      "2021-05-06 20:30:00 ok\n",
      "2021-05-06 20:35:00 ok\n",
      "2021-05-06 20:40:00 ok\n",
      "2021-05-06 20:45:00 ok\n",
      "2021-05-06 20:50:00 ok\n",
      "2021-05-06 20:55:00 ok\n",
      "2021-05-06 21:00:00 ok\n",
      "2021-05-06 21:05:00 ok\n",
      "2021-05-06 21:10:00 ok\n",
      "2021-05-06 21:15:00 ok\n",
      "2021-05-06 21:20:00 ok\n",
      "2021-05-06 21:25:00 ok\n",
      "2021-05-06 21:30:00 ok\n",
      "2021-05-06 21:35:00 ok\n",
      "2021-05-06 21:40:00 ok\n",
      "2021-05-06 21:45:00 ok\n",
      "2021-05-06 21:50:00 ok\n",
      "2021-05-06 21:55:00 ok\n",
      "2021-05-06 22:00:00 ok\n",
      "2021-05-06 22:05:00 ok\n",
      "2021-05-06 22:10:00 ok\n",
      "2021-05-06 22:15:00 ok\n",
      "2021-05-06 22:20:00 ok\n",
      "2021-05-06 22:25:00 ok\n",
      "2021-05-06 22:30:00 ok\n",
      "2021-05-06 22:35:00 ok\n",
      "2021-05-06 22:40:00 ok\n"
     ]
    }
   ],
   "source": [
    "results = pointPositioning(sat_galileo, R0, 5)"
   ]
  },
  {
   "cell_type": "code",
   "execution_count": 55,
   "id": "9c74ec27",
   "metadata": {},
   "outputs": [
    {
     "name": "stdout",
     "output_type": "stream",
     "text": [
      "     index            datetime            xr            yr            zr  \\\n",
      "0        0 2021-05-06 00:05:00  4.642433e+06  1.028631e+06  4.236854e+06   \n",
      "1        0 2021-05-06 00:10:00  4.642432e+06  1.028630e+06  4.236855e+06   \n",
      "2        0 2021-05-06 00:15:00  4.642431e+06  1.028630e+06  4.236855e+06   \n",
      "3        0 2021-05-06 00:20:00  4.642433e+06  1.028630e+06  4.236853e+06   \n",
      "4        0 2021-05-06 00:25:00  4.642438e+06  1.028632e+06  4.236852e+06   \n",
      "..     ...                 ...           ...           ...           ...   \n",
      "242      0 2021-05-06 22:20:00  4.642434e+06  1.028628e+06  4.236857e+06   \n",
      "243      0 2021-05-06 22:25:00  4.642435e+06  1.028628e+06  4.236857e+06   \n",
      "244      0 2021-05-06 22:30:00  4.642434e+06  1.028628e+06  4.236858e+06   \n",
      "245      0 2021-05-06 22:35:00  4.642431e+06  1.028627e+06  4.236860e+06   \n",
      "246      0 2021-05-06 22:40:00  4.642431e+06  1.028627e+06  4.236858e+06   \n",
      "\n",
      "              dtr in_view_sat  \n",
      "0    9.726797e-08           5  \n",
      "1    1.017587e-07           5  \n",
      "2    9.625610e-08           5  \n",
      "3    9.154548e-08           6  \n",
      "4    1.025246e-07           5  \n",
      "..            ...         ...  \n",
      "242  8.084291e-08           7  \n",
      "243  8.316699e-08           7  \n",
      "244  8.320099e-08           7  \n",
      "245  8.572143e-08           5  \n",
      "246  8.036575e-08           5  \n",
      "\n",
      "[247 rows x 7 columns]\n"
     ]
    }
   ],
   "source": [
    "print(results)"
   ]
  },
  {
   "cell_type": "code",
   "execution_count": 56,
   "id": "3ea566c0",
   "metadata": {},
   "outputs": [],
   "source": [
    "P0_cart = [4642432.50, 1028629.40, 4236854.20]\n",
    "P0_g = trf.cartToGeod(4642432.50, 1028629.40, 4236854.20)\n",
    "\n",
    "results_LC = pd.DataFrame()\n",
    "results_LC['dx'] = results['xr'] - P0_cart[0]\n",
    "results_LC['dy'] = results['yr'] - P0_cart[1]\n",
    "results_LC['dz'] = results['zr'] - P0_cart[2]\n",
    "\n",
    "E=[]\n",
    "N=[]\n",
    "U=[]\n",
    "\n",
    "lat0 = trf.degToRad(P0_g[0])\n",
    "lon0 = trf.degToRad(P0_g[1])\n",
    "\n",
    "# Definition of the rotation matrix\n",
    "R = np.array([ [-np.sin(lon0), np.cos(lon0), 0],\n",
    "                [-np.sin(lat0)*np.cos(lon0), -np.sin(lat0)*np.sin(lon0), np.cos(lat0)],\n",
    "                [np.cos(lat0)*np.cos(lon0), np.cos(lat0)*np.sin(lon0), np.sin(lat0)]\n",
    "                ])\n",
    "\n",
    "for i in range(len(results_LC)):\n",
    "    delta_array_i = np.array([[results_LC['dx'][i]], [results_LC['dy'][i]], [results_LC['dz'][i]]])\n",
    "    ENU =np.dot(R, delta_array_i)\n",
    "    E.append(ENU[0][0])\n",
    "    N.append(ENU[1][0])\n",
    "    U.append(ENU[2][0])\n",
    "\n",
    "results_LC['E'] = E\n",
    "results_LC['N'] = N\n",
    "results_LC['U'] = U\n",
    "results_LC['time'] = results['datetime']\n",
    "results_LC['in_view'] = results['in_view_sat']\n",
    "results_LC = results_LC.reset_index()"
   ]
  },
  {
   "cell_type": "code",
   "execution_count": 57,
   "id": "8809606a",
   "metadata": {},
   "outputs": [
    {
     "name": "stdout",
     "output_type": "stream",
     "text": [
      "     index        dx        dy        dz         E         N         U  \\\n",
      "0        0  0.814967  1.189686 -0.569626  0.985219 -1.127178  0.403502   \n",
      "1        1 -0.670970  0.785557  0.976577  0.912103  1.050909  0.290963   \n",
      "2        2 -1.149184  0.446030  0.622231  0.684066  1.147944 -0.347873   \n",
      "3        3  0.011199  0.963317 -1.370620  0.938085 -1.166729 -0.751960   \n",
      "4        4  5.993578  2.808799 -2.672468  1.445731 -6.302497  3.023707   \n",
      "..     ...       ...       ...       ...       ...       ...       ...   \n",
      "242    242  1.514844 -1.463813  2.911435 -1.756850  1.391119  2.809309   \n",
      "243    243  2.397947 -1.172586  2.539582 -1.663556  0.496525  3.249713   \n",
      "244    244  1.819801 -1.581083  3.552561 -1.937313  1.686498  3.440165   \n",
      "245    245 -1.075589 -2.575984  5.367468 -2.282312  5.068809  2.387577   \n",
      "246    246 -1.632072 -2.711096  3.788372 -2.293844  4.275649  0.906957   \n",
      "\n",
      "                   time in_view  \n",
      "0   2021-05-06 00:05:00       5  \n",
      "1   2021-05-06 00:10:00       5  \n",
      "2   2021-05-06 00:15:00       5  \n",
      "3   2021-05-06 00:20:00       6  \n",
      "4   2021-05-06 00:25:00       5  \n",
      "..                  ...     ...  \n",
      "242 2021-05-06 22:20:00       7  \n",
      "243 2021-05-06 22:25:00       7  \n",
      "244 2021-05-06 22:30:00       7  \n",
      "245 2021-05-06 22:35:00       5  \n",
      "246 2021-05-06 22:40:00       5  \n",
      "\n",
      "[247 rows x 9 columns]\n"
     ]
    }
   ],
   "source": [
    "print(results_LC)"
   ]
  },
  {
   "cell_type": "code",
   "execution_count": 58,
   "id": "d806afe9",
   "metadata": {},
   "outputs": [
    {
     "name": "stdout",
     "output_type": "stream",
     "text": [
      "MEDIA ERRORI:\n",
      "Est:  -0.16442100003027682 \n",
      " Nord:  1.2355666356199022 \n",
      " Quota:  3.965155846893707\n",
      "DEVIAZIONE STANDARD: \n",
      " Est:  1.8386247740656183 \n",
      " Nord:  1.9690873296436413 \n",
      " Quota:  3.878202533535689\n",
      "Valori Massimi: \n",
      " Est:  6.852790154742406 \n",
      " Nord:  8.79064466224809 \n",
      " Quota:  16.025742645764534\n"
     ]
    }
   ],
   "source": [
    "print('MEDIA ERRORI:')\n",
    "print('Est: ', results_LC['E'].mean(), '\\n',\n",
    "      'Nord: ', results_LC['N'].mean(), '\\n',\n",
    "      'Quota: ', results_LC['U'].mean() )\n",
    "\n",
    "print('DEVIAZIONE STANDARD:', '\\n',\n",
    "      'Est: ', results_LC['E'].std(), '\\n',\n",
    "      'Nord: ', results_LC['N'].std(), '\\n',\n",
    "      'Quota: ', results_LC['U'].std() )\n",
    "\n",
    "print('Valori Massimi:', '\\n',\n",
    "      'Est: ', abs(results_LC['E']).max(), '\\n',\n",
    "      'Nord: ', abs(results_LC['N']).max(), '\\n',\n",
    "      'Quota: ', abs(results_LC['U']).max() )"
   ]
  },
  {
   "cell_type": "code",
   "execution_count": 59,
   "id": "a3cd329c",
   "metadata": {},
   "outputs": [
    {
     "data": {
      "image/png": "[encoded data removed]",
      "text/plain": [
       "<Figure size 720x432 with 1 Axes>"
      ]
     },
     "metadata": {
      "needs_background": "light"
     },
     "output_type": "display_data"
    }
   ],
   "source": [
    "import matplotlib.pyplot as plt\n",
    "import matplotlib.dates as mdates\n",
    "from matplotlib.dates import DateFormatter\n",
    "\n",
    "fig, ax = plt.subplots(figsize=(10,6))\n",
    "ax.plot(results_LC['time'], results_LC['E'],\n",
    "        '-',\n",
    "        color='red')\n",
    "ax.set(xlabel=\"Time\", ylabel='EAST', title = 'Time-EAST')\n",
    "ax.xaxis.set_major_locator(mdates.HourLocator(interval=2))\n",
    "ax.xaxis.set_major_formatter(DateFormatter(\"%H-%M\"))\n",
    "plt.show()"
   ]
  },
  {
   "cell_type": "code",
   "execution_count": 60,
   "id": "4b9e0af0",
   "metadata": {},
   "outputs": [
    {
     "data": {
      "image/png": "[encoded data removed]",
      "text/plain": [
       "<Figure size 720x432 with 1 Axes>"
      ]
     },
     "metadata": {
      "needs_background": "light"
     },
     "output_type": "display_data"
    }
   ],
   "source": [
    "fig, ax = plt.subplots(figsize=(10,6))\n",
    "ax.plot(results_LC['time'], results_LC['N'],\n",
    "        '-',\n",
    "        color='blue')\n",
    "ax.set(xlabel=\"Time\", ylabel='NORTH', title = 'Time-NORTH')\n",
    "ax.xaxis.set_major_locator(mdates.HourLocator(interval=2))\n",
    "ax.xaxis.set_major_formatter(DateFormatter(\"%H-%M\"))\n",
    "plt.show()"
   ]
  },
  {
   "cell_type": "code",
   "execution_count": 61,
   "id": "103b1270",
   "metadata": {},
   "outputs": [
    {
     "data": {
      "image/png": "[encoded data removed]",
      "text/plain": [
       "<Figure size 720x432 with 1 Axes>"
      ]
     },
     "metadata": {
      "needs_background": "light"
     },
     "output_type": "display_data"
    }
   ],
   "source": [
    "fig, ax = plt.subplots(figsize=(10,6))\n",
    "ax.plot(results_LC['time'], results_LC['U'],\n",
    "        '-',\n",
    "        color='green')\n",
    "ax.set(xlabel=\"Time\", ylabel='UP', title = 'Time-UP')\n",
    "ax.xaxis.set_major_locator(mdates.HourLocator(interval=2))\n",
    "ax.xaxis.set_major_formatter(DateFormatter(\"%H-%M\"))\n",
    "plt.show()"
   ]
  },
  {
   "cell_type": "code",
   "execution_count": 62,
   "id": "cc7899a0",
   "metadata": {},
   "outputs": [
    {
     "name": "stdout",
     "output_type": "stream",
     "text": [
      "    index         dx         dy        dz        E         N          U  \\\n",
      "84     84  13.782236  10.072736  5.515394  6.85279 -6.334465  15.321339   \n",
      "\n",
      "                  time in_view  \n",
      "84 2021-05-06 07:20:00       5  \n"
     ]
    }
   ],
   "source": [
    "print(results_LC[results_LC['E']==results_LC['E'].max()])"
   ]
  },
  {
   "cell_type": "code",
   "execution_count": 63,
   "id": "fc52b3a5",
   "metadata": {},
   "outputs": [
    {
     "data": {
      "text/plain": [
       "247"
      ]
     },
     "execution_count": 63,
     "metadata": {},
     "output_type": "execute_result"
    }
   ],
   "source": [
    "len(results_LC)"
   ]
  },
  {
   "cell_type": "code",
   "execution_count": null,
   "id": "1bebc2f6",
   "metadata": {},
   "outputs": [],
   "source": []
  }
 ],
 "metadata": {
  "kernelspec": {
   "display_name": "Python 3",
   "language": "python",
   "name": "python3"
  },
  "language_info": {
   "codemirror_mode": {
    "name": "ipython",
    "version": 3
   },
   "file_extension": ".py",
   "mimetype": "text/x-python",
   "name": "python",
   "nbconvert_exporter": "python",
   "pygments_lexer": "ipython3",
   "version": "3.7.6"
  }
 },
 "nbformat": 4,
 "nbformat_minor": 5
}
