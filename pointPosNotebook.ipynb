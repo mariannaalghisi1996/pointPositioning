{
 "cells": [
  {
   "cell_type": "code",
   "execution_count": 2,
   "id": "4a4abf2f",
   "metadata": {},
   "outputs": [],
   "source": [
    "# Import of the required libraries\n",
    "import georinex as gr\n",
    "import pandas as pd\n",
    "import numpy as np\n",
    "import matplotlib.pyplot as plt\n",
    "import datetime as datetime\n",
    "from datetime import datetime as dtt\n",
    "import matplotlib.dates as mdates\n",
    "from matplotlib.dates import DateFormatter\n",
    "\n",
    "# Import of the software's modules\n",
    "import functions as fn\n",
    "import transformations as trf\n",
    "import pointPositioning as pp\n",
    "import RINEXreader "
   ]
  },
  {
   "cell_type": "code",
   "execution_count": 3,
   "id": "e3eea6ca",
   "metadata": {},
   "outputs": [],
   "source": [
    "param_file = 'parameters.txt'\n",
    "file = open(param_file, 'r')\n",
    "p = file.read().split('\\n')\n",
    "\n",
    "# Definition of the paths to the RINEX files\n",
    "nav_path = p[0]\n",
    "obs_path = p[1]\n",
    "eph_path = p[2]\n",
    "cutoff = int(p[3])"
   ]
  },
  {
   "cell_type": "markdown",
   "id": "1c69cc6d",
   "metadata": {},
   "source": [
    "# Load with georinex library of nav and obs rinex info"
   ]
  },
  {
   "cell_type": "code",
   "execution_count": 4,
   "id": "503f94b4",
   "metadata": {},
   "outputs": [
    {
     "name": "stderr",
     "output_type": "stream",
     "text": [
      "C:\\git\\pointPositioning\\pointPositioning\\functions.py:19: SettingWithCopyWarning: \n",
      "A value is trying to be set on a copy of a slice from a DataFrame\n",
      "\n",
      "See the caveats in the documentation: https://pandas.pydata.org/pandas-docs/stable/user_guide/indexing.html#returning-a-view-versus-a-copy\n",
      "  df['time'][i] = t\n"
     ]
    }
   ],
   "source": [
    "# Loading of GPS navigation parameters from NAV RINEX\n",
    "param_gps = gr.load(nav_path)\n",
    "df_gps = param_gps.to_dataframe()\n",
    "df_gps = ((df_gps.dropna()).sort_values(by=['time'], ascending = True)).reset_index()\n",
    "# Corrupted timestamps are corrected\n",
    "df_gps = fn.fixTime(df_gps)\n",
    "\n",
    "# Loading of GPS code observations in a DataSet\n",
    "obs = gr.load(obs_path, use = 'G')\n",
    "\n",
    "data = df_gps['time'][0]"
   ]
  },
  {
   "cell_type": "code",
   "execution_count": 5,
   "id": "2704f77d",
   "metadata": {},
   "outputs": [],
   "source": [
    "# Definition of time range in which we want to carry out the analysis (get Satellite position, velocity and clockoffset and\n",
    "# perform Point Positioning)\n",
    "time_range = []\n",
    "\n",
    "START = df_gps['time'].min()\n",
    "END = dtt.strptime('2021-05-26 00:20:00', '%Y-%m-%d %H:%M:%S')\n",
    "t = START\n",
    "while t <= END:\n",
    "    time_range.append(t)\n",
    "    t = t + datetime.timedelta(minutes=5)\n",
    "mask_par = df_gps['time'] <= END\n",
    "df_gps = df_gps[mask_par].reset_index().drop(columns=['index'])\n",
    "    \n",
    "# List of the timestamps of the available observation (we can perform Point Positioning only when we have sufficient \n",
    "# code observations)\n",
    "time_obs = obs.time.to_dataframe()['time'].tolist()"
   ]
  },
  {
   "cell_type": "markdown",
   "id": "4e33eeb2",
   "metadata": {},
   "source": [
    "# Satellites positions, velocities and clock offsets"
   ]
  },
  {
   "cell_type": "code",
   "execution_count": 6,
   "id": "880e9d04",
   "metadata": {},
   "outputs": [
    {
     "name": "stdout",
     "output_type": "stream",
     "text": [
      "                  time   sv            xs            ys            zs  \\\n",
      "0  2021-05-26 00:00:00  G02  2.135798e+07 -1.473658e+07  6.439559e+06   \n",
      "1  2021-05-26 00:00:00  G05  6.689723e+06 -1.392794e+07  2.143672e+07   \n",
      "2  2021-05-26 00:00:00  G06  2.543621e+07 -5.896490e+06 -4.987166e+06   \n",
      "3  2021-05-26 00:00:00  G07  1.425396e+07  1.027658e+07  2.040488e+07   \n",
      "4  2021-05-26 00:00:00  G09  8.367914e+06  1.962441e+07  1.574966e+07   \n",
      "5  2021-05-26 00:00:00  G13  1.316160e+07 -2.095408e+07  9.332382e+06   \n",
      "6  2021-05-26 00:00:00  G14  2.223440e+07  1.089473e+07 -9.666531e+06   \n",
      "7  2021-05-26 00:00:00  G20 -6.286587e+05 -1.750810e+07  1.999084e+07   \n",
      "8  2021-05-26 00:00:00  G30  2.371831e+07  1.297798e+06  1.218316e+07   \n",
      "9  2021-05-26 00:05:00  G02  2.157316e+07 -1.475514e+07  5.522321e+06   \n",
      "10 2021-05-26 00:05:00  G05  7.361410e+06 -1.343968e+07  2.153280e+07   \n",
      "11 2021-05-26 00:05:00  G06  2.526201e+07 -5.766378e+06 -5.923931e+06   \n",
      "12 2021-05-26 00:05:00  G07  1.355345e+07  1.056421e+07  2.072374e+07   \n",
      "13 2021-05-26 00:05:00  G09  8.221288e+06  2.020112e+07  1.508555e+07   \n",
      "14 2021-05-26 00:05:00  G13  1.312534e+07 -2.056995e+07  1.019062e+07   \n",
      "15 2021-05-26 00:05:00  G14  2.244562e+07  1.118644e+07 -8.807113e+06   \n",
      "16 2021-05-26 00:05:00  G20  5.106636e+04 -1.714379e+07  2.030481e+07   \n",
      "17 2021-05-26 00:05:00  G30  2.329854e+07  1.533609e+06  1.293888e+07   \n",
      "18 2021-05-26 00:10:00  G02  2.175752e+07 -1.476173e+07  4.594690e+06   \n",
      "19 2021-05-26 00:10:00  G05  8.043465e+06 -1.296136e+07  2.158703e+07   \n",
      "20 2021-05-26 00:10:00  G06  2.505770e+07 -5.619727e+06 -6.849379e+06   \n",
      "21 2021-05-26 00:10:00  G07  1.284746e+07  1.086825e+07  2.100451e+07   \n",
      "22 2021-05-26 00:10:00  G09  8.087514e+06  2.075478e+07  1.439243e+07   \n",
      "23 2021-05-26 00:10:00  G13  1.308739e+07 -2.015413e+07  1.102908e+07   \n",
      "24 2021-05-26 00:10:00  G14  2.263693e+07  1.145332e+07 -7.930870e+06   \n",
      "25 2021-05-26 00:10:00  G20  7.465394e+05 -1.678500e+07  2.057997e+07   \n",
      "26 2021-05-26 00:10:00  G30  2.285667e+07  1.786113e+06  1.367020e+07   \n",
      "27 2021-05-26 00:15:00  G02  2.191124e+07 -1.475492e+07  3.658390e+06   \n",
      "28 2021-05-26 00:15:00  G05  8.734438e+06 -1.249411e+07  2.159934e+07   \n",
      "29 2021-05-26 00:15:00  G06  2.482429e+07 -5.455449e+06 -7.761738e+06   \n",
      "30 2021-05-26 00:15:00  G07  1.213763e+07  1.118846e+07  2.124663e+07   \n",
      "31 2021-05-26 00:15:00  G09  7.965749e+06  2.128404e+07  1.367163e+07   \n",
      "32 2021-05-26 00:15:00  G13  1.304919e+07 -1.970717e+07  1.184613e+07   \n",
      "33 2021-05-26 00:15:00  G14  2.280697e+07  1.169589e+07 -7.039475e+06   \n",
      "34 2021-05-26 00:15:00  G20  1.456496e+06 -1.643288e+07  2.081577e+07   \n",
      "35 2021-05-26 00:15:00  G30  2.239404e+07  2.055894e+06  1.437573e+07   \n",
      "36 2021-05-26 00:20:00  G02  2.203461e+07 -1.473334e+07  2.715170e+06   \n",
      "37 2021-05-26 00:20:00  G05  9.432818e+06 -1.203899e+07  2.156973e+07   \n",
      "38 2021-05-26 00:20:00  G06  2.456291e+07 -5.272529e+06 -8.659260e+06   \n",
      "39 2021-05-26 00:20:00  G07  1.142563e+07  1.152454e+07  2.144963e+07   \n",
      "40 2021-05-26 00:20:00  G09  7.855077e+06  2.178765e+07  1.292454e+07   \n",
      "41 2021-05-26 00:20:00  G13  1.301212e+07 -1.922974e+07  1.264019e+07   \n",
      "42 2021-05-26 00:20:00  G14  2.295445e+07  1.191476e+07 -6.134631e+06   \n",
      "43 2021-05-26 00:20:00  G20  2.179599e+06 -1.608853e+07  2.101172e+07   \n",
      "44 2021-05-26 00:20:00  G30  2.191208e+07  2.343446e+06  1.505414e+07   \n",
      "\n",
      "         xs_dot       ys_dot       zs_dot        ts            P1  \n",
      "0    768.788232   -80.196831 -3038.245382 -0.000607  2.307212e+07  \n",
      "1   2220.116435  1642.765159   389.809779 -0.000043  2.238248e+07  \n",
      "2   -529.399603   407.409024 -3139.426694  0.000020  2.387310e+07  \n",
      "3  -2324.060006   931.238786  1125.713594  0.000161  2.081500e+07  \n",
      "4   -511.047765  1959.253265 -2163.873827 -0.000348  2.232484e+07  \n",
      "5   -116.477465  1227.094981  2891.885134  0.000137  2.369932e+07  \n",
      "6    735.734036  1014.215719  2834.851255  0.000080  2.480299e+07  \n",
      "7   2238.161691  1222.271586  1110.577308  0.000522  2.415786e+07  \n",
      "8  -1360.925977   758.926814  2558.162705 -0.000431  2.078013e+07  \n",
      "9    665.821713   -42.708416 -3075.731738 -0.000607  2.317929e+07  \n",
      "10  2257.026402  1611.614772   250.584090 -0.000043  2.221302e+07  \n",
      "11  -631.399786   460.648152 -3104.678655  0.000020  2.406805e+07  \n",
      "12 -2345.095200   986.205882   999.712268  0.000161  2.086872e+07  \n",
      "13  -466.887047  1884.712784 -2262.766654 -0.000348  2.246427e+07  \n",
      "14  -124.477813  1333.531356  2828.740658  0.000137  2.352158e+07  \n",
      "15   671.648709   930.705812  2893.690689  0.000080  2.459408e+07  \n",
      "16  2292.678673  1205.835753   982.224071  0.000522  2.395129e+07  \n",
      "17 -1436.808721   813.512582  2479.178718 -0.000431  2.068813e+07  \n",
      "18   563.325425    -0.431688 -3107.516513 -0.000607  2.329313e+07  \n",
      "19  2289.204197  1576.553145   110.934805 -0.000043  2.204951e+07  \n",
      "20  -730.127051   517.629241 -3063.989094  0.000020  2.426422e+07  \n",
      "21 -2360.615478  1040.580231   871.772102  0.000161  2.093022e+07  \n",
      "22  -425.407861  1805.589912 -2357.295873 -0.000348  2.260692e+07  \n",
      "23  -127.700001  1438.303228  2760.088314  0.000137  2.334604e+07  \n",
      "24   602.980493   848.767250  2947.002290  0.000080  2.438471e+07  \n",
      "25  2343.105272  1185.460360   851.893728  0.000522  2.374760e+07  \n",
      "26 -1508.261243   870.175325  2395.504736 -0.000431  2.060502e+07  \n",
      "27   461.639868    46.549799 -3133.511554 -0.000607  2.341329e+07  \n",
      "28  2316.442822  1537.843765   -28.862647 -0.000043  2.189251e+07  \n",
      "29  -825.281108   578.120498 -3017.432483  0.000020  2.446115e+07  \n",
      "30 -2370.631671  1094.038663   742.115795  0.000161  2.099932e+07  \n",
      "31  -386.865153  1722.123936 -2447.279856 -0.000348  2.275278e+07  \n",
      "32  -126.217787  1541.044961  2686.060082  0.000137  2.317294e+07  \n",
      "33   529.902835   768.713845  2994.684282  0.000080  2.417553e+07  \n",
      "34  2389.194536  1161.356383   719.831650  0.000522  2.354737e+07  \n",
      "35 -1575.101196   928.636536  2307.294472 -0.000431  2.053099e+07  \n",
      "36   361.102211    98.129981 -3153.638426 -0.000607  2.353939e+07  \n",
      "37  2338.554737  1495.764315  -168.533064 -0.000043  2.174262e+07  \n",
      "38  -916.577087   641.872184 -2965.094547  0.000020  2.465840e+07  \n",
      "39 -2375.175069  1146.259570   610.969619  0.000161  2.107585e+07  \n",
      "40  -351.498782  1634.571255 -2532.545920 -0.000348  2.290184e+07  \n",
      "41  -120.127638  1641.397610  2606.798952  0.000137  2.300249e+07  \n",
      "42   452.608997   690.848678  3036.645583  0.000080  2.396719e+07  \n",
      "43  2430.714993  1133.750505   586.287256  0.000522  2.335116e+07  \n",
      "44 -1637.164776   988.607402  2214.709945 -0.000431  2.046622e+07  \n"
     ]
    }
   ],
   "source": [
    "# Definition of the empty DataFrame that will contain the results\n",
    "satellites = pd.DataFrame(columns = ['time', 'sv', 'xs', 'ys', 'zs', 'xs_dot', 'ys_dot', 'zs_dot', 'ts', 'C1'])\n",
    "\n",
    "for w in time_range:\n",
    "    # The list of satellites, whose parameter we want to estimate, is obtained from the available observations:\n",
    "    # for each instant of time in time_range we select the in-view satellite\n",
    "    # their position, velocity and clock offset are the computed\n",
    "    if w in time_obs:\n",
    "        obs_tk = (obs.sel(time = w)).to_dataframe().reset_index()\n",
    "        obs_tk = obs_tk[['time', 'sv', 'P1']].dropna().reset_index()\n",
    "        available_sat = (obs_tk['sv']).to_list()\n",
    "        if len(available_sat) > 0:\n",
    "            for sv_i in available_sat:\n",
    "                # Every satellite in view at the considered epoch is associated with the parameter slot \n",
    "                # to which it belongs through the getPar function\n",
    "                sat_par = fn.getPar(sv_i, w, df_gps)\n",
    "                # If the navigation parameters are available:\n",
    "                if type(sat_par) == pd.core.frame.DataFrame:\n",
    "                    sat = fn.satPosVel(sat_par).reset_index()\n",
    "                    sat = sat.merge(obs_tk, on = ['sv', 'time'], how = 'left')\n",
    "                    satellites = satellites.append(sat)\n",
    "        \n",
    "satellites = satellites.reset_index()\n",
    "satellites = satellites[['time', 'sv', 'xs', 'ys', 'zs', 'xs_dot', 'ys_dot', 'zs_dot', 'ts', 'P1']]\n",
    "\n",
    "print(satellites)"
   ]
  },
  {
   "cell_type": "markdown",
   "id": "e31d6fea",
   "metadata": {},
   "source": [
    "# Check on satellites' position and clock offsets"
   ]
  },
  {
   "cell_type": "code",
   "execution_count": 6,
   "id": "029db5f4",
   "metadata": {},
   "outputs": [
    {
     "name": "stdout",
     "output_type": "stream",
     "text": [
      "abs(computed_value - expected_value for ephemerides\n",
      "Mean:\n",
      "X:  0.7102071603815097\n",
      "Y:  0.8826682459149096\n",
      "Z:  0.7832794308248493\n",
      "ts:  1.5553989445192885e-09\n",
      "Max:\n",
      "X:  1.4333764500916004\n",
      "Y:  1.7611916828900576\n",
      "Z:  2.549215259961784\n",
      "ts:  2.763331089422399e-09\n"
     ]
    }
   ],
   "source": [
    "confronto = fn.checkSatPos(satellites, eph_path)"
   ]
  },
  {
   "cell_type": "markdown",
   "id": "4788a76c",
   "metadata": {},
   "source": [
    "# Check on satellites' velocity"
   ]
  },
  {
   "cell_type": "code",
   "execution_count": 7,
   "id": "3b2f2eb2",
   "metadata": {},
   "outputs": [
    {
     "name": "stdout",
     "output_type": "stream",
     "text": [
      "abs(computed_value - expected_value for velocities\n",
      "Mean:\n",
      "X:  0.26341583928571755\n",
      "Y:  0.29895264642473823\n",
      "Z:  0.4283584448295672\n",
      "Max:\n",
      "X:  0.5176153444942884\n",
      "Y:  0.5357053792870374\n",
      "Z:  0.6988966359126678\n"
     ]
    }
   ],
   "source": [
    "velocita = fn.checkSatVel(satellites, df_gps)"
   ]
  },
  {
   "cell_type": "markdown",
   "id": "89bb5bc1",
   "metadata": {},
   "source": [
    "# Point Positioning"
   ]
  },
  {
   "cell_type": "code",
   "execution_count": 7,
   "id": "992937b7",
   "metadata": {},
   "outputs": [
    {
     "name": "stdout",
     "output_type": "stream",
     "text": [
      "Inosphere parameters:  [[6.5193e-09, 2.2352e-08, -5.9605e-08, -1.1921e-07], [86016.0, 98304.0, -65536.0, -524290.0]]\n",
      "2021-05-26 00:00:00 ok\n",
      "2021-05-26 00:05:00 ok\n",
      "2021-05-26 00:10:00 ok\n",
      "2021-05-26 00:15:00 ok\n",
      "2021-05-26 00:20:00 ok\n",
      "   index            datetime            xr             yr            zr  \\\n",
      "0      0 2021-05-26 00:00:00  4.421977e+06  718516.621699  4.524918e+06   \n",
      "1      0 2021-05-26 00:05:00  4.421977e+06  718516.693303  4.524918e+06   \n",
      "2      0 2021-05-26 00:10:00  4.421976e+06  718516.628545  4.524917e+06   \n",
      "3      0 2021-05-26 00:15:00  4.421976e+06  718516.851376  4.524918e+06   \n",
      "4      0 2021-05-26 00:20:00  4.421975e+06  718516.422412  4.524917e+06   \n",
      "\n",
      "        dtr in_view_sat  \n",
      "0 -0.000392           9  \n",
      "1 -0.000414           9  \n",
      "2 -0.000435           9  \n",
      "3 -0.000455           9  \n",
      "4 -0.000475           9  \n"
     ]
    }
   ],
   "source": [
    "# Alpha and Beta paramethers for computing Ionosphere correction are read from nav RINEX through an apposite function\n",
    "ionoParams = RINEXreader.getIonoParams(nav_path)\n",
    "print('Inosphere parameters: ', ionoParams)\n",
    "\n",
    "# Definition of the initial position of the receiver (from OBS RINEX)\n",
    "R_0 = RINEXreader.getStartPos(obs_path)\n",
    "\n",
    "# Performing of Point Positioning with the apposite function\n",
    "results = pp.pointPositioning(satellites, R_0, ionoParams, cutoff)\n",
    "\n",
    "print(results)"
   ]
  },
  {
   "cell_type": "code",
   "execution_count": 8,
   "id": "e34b7de9",
   "metadata": {},
   "outputs": [
    {
     "name": "stdout",
     "output_type": "stream",
     "text": [
      "Statistical analysis on Point Positioning results:\n",
      "Mean values: \n",
      "XR:  4421976.344847493\n",
      "YR:  718516.6434672248\n",
      "ZR:  4524917.758395143\n",
      "dtR:  -0.0004341817565623052\n",
      "Standard deviation: \n",
      "XR:  0.7828668159468775\n",
      "YR:  0.1543304194060876\n",
      "ZR:  0.4734072116993931\n",
      "dtR:  3.27957908755505e-05\n"
     ]
    }
   ],
   "source": [
    "print('Statistical analysis on Point Positioning results:')\n",
    "print('Mean values: ')\n",
    "print('XR: ', results['xr'].mean())\n",
    "print('YR: ', results['yr'].mean())\n",
    "print('ZR: ', results['zr'].mean())\n",
    "print('dtR: ', results['dtr'].mean())\n",
    "\n",
    "print('Standard deviation: ')\n",
    "print('XR: ', results['xr'].std())\n",
    "print('YR: ', results['yr'].std())\n",
    "print('ZR: ', results['zr'].std())\n",
    "print('dtR: ', results['dtr'].std())"
   ]
  },
  {
   "cell_type": "markdown",
   "id": "149bad94",
   "metadata": {},
   "source": [
    "# Transformation in Local Cartesian"
   ]
  },
  {
   "cell_type": "code",
   "execution_count": 9,
   "id": "a8dd81b3",
   "metadata": {},
   "outputs": [],
   "source": [
    "# Coordinates of the receiver, Milan Permanent Station, reference: SPIN3GNSS\n",
    "P0_g = [45.478368630552694, 9.229212872263435, 191.12520962953568]\n",
    "P0_cart = trf.geodToCart(45.478368630552694, 9.229212872263435, 191.12520962953568)\n",
    "\n",
    "results_LC = pd.DataFrame()\n",
    "results_LC['dx'] = results['xr'] - P0_cart[0]\n",
    "results_LC['dy'] = results['yr'] - P0_cart[1]\n",
    "results_LC['dz'] = results['zr'] - P0_cart[2]\n",
    "\n",
    "E=[]\n",
    "N=[]\n",
    "U=[]\n",
    "\n",
    "lat0 = trf.degToRad(P0_g[0])\n",
    "lon0 = trf.degToRad(P0_g[1])\n",
    "\n",
    "# Definition of the rotation matrix\n",
    "R = np.array([ [-np.sin(lon0), np.cos(lon0), 0],\n",
    "                [-np.sin(lat0)*np.cos(lon0), -np.sin(lat0)*np.sin(lon0), np.cos(lat0)],\n",
    "                [np.cos(lat0)*np.cos(lon0), np.cos(lat0)*np.sin(lon0), np.sin(lat0)]\n",
    "                ])\n",
    "\n",
    "for i in range(len(results_LC)):\n",
    "    delta_array_i = np.array([[results_LC['dx'][i]], [results_LC['dy'][i]], [results_LC['dz'][i]]])\n",
    "    ENU =np.dot(R, delta_array_i)\n",
    "    E.append(ENU[0][0])\n",
    "    N.append(ENU[1][0])\n",
    "    U.append(ENU[2][0])\n",
    "\n",
    "results_LC['E'] = E\n",
    "results_LC['N'] = N\n",
    "results_LC['U'] = U\n",
    "results_LC['time'] = results['datetime']\n",
    "results_LC = results_LC.reset_index()"
   ]
  },
  {
   "cell_type": "code",
   "execution_count": 10,
   "id": "6b673ce7",
   "metadata": {},
   "outputs": [
    {
     "name": "stdout",
     "output_type": "stream",
     "text": [
      "MEDIA ERRORI:\n",
      "Est:  -1.1557014013772453 \n",
      " Nord:  1.6202456271552215 \n",
      " Quota:  -4.833036439758981\n",
      "DEVIAZIONE STANDARD: \n",
      " Est:  0.16270387082252946 \n",
      " Nord:  0.24929316960400774 \n",
      " Quota:  0.8787451757830641\n",
      "Valori Massimi: \n",
      " Est:  1.3370888749480063 \n",
      " Nord:  1.9991793830111702 \n",
      " Quota:  5.892660951320849\n"
     ]
    }
   ],
   "source": [
    "print('MEDIA ERRORI:')\n",
    "print('Est: ', results_LC['E'].mean(), '\\n',\n",
    "      'Nord: ', results_LC['N'].mean(), '\\n',\n",
    "      'Quota: ', results_LC['U'].mean() )\n",
    "\n",
    "print('DEVIAZIONE STANDARD:', '\\n',\n",
    "      'Est: ', results_LC['E'].std(), '\\n',\n",
    "      'Nord: ', results_LC['N'].std(), '\\n',\n",
    "      'Quota: ', results_LC['U'].std() )\n",
    "\n",
    "print('Valori Massimi:', '\\n',\n",
    "      'Est: ', abs(results_LC['E']).max(), '\\n',\n",
    "      'Nord: ', abs(results_LC['N']).max(), '\\n',\n",
    "      'Quota: ', abs(results_LC['U']).max() )"
   ]
  },
  {
   "cell_type": "code",
   "execution_count": 11,
   "id": "fdf9a842",
   "metadata": {},
   "outputs": [
    {
     "data": {
      "image/png": "[encoded data removed]",
      "text/plain": [
       "<Figure size 720x432 with 1 Axes>"
      ]
     },
     "metadata": {
      "needs_background": "light"
     },
     "output_type": "display_data"
    }
   ],
   "source": [
    "fig, ax = plt.subplots(figsize=(10,6))\n",
    "ax.plot(results_LC['time'], results_LC['E'],\n",
    "        '-',\n",
    "        color='red')\n",
    "ax.set(xlabel=\"Time\", ylabel='EAST', title = 'Time-EAST')\n",
    "ax.xaxis.set_major_locator(mdates.HourLocator(interval=2))\n",
    "ax.xaxis.set_major_formatter(DateFormatter(\"%H-%M\"))\n",
    "plt.show()"
   ]
  },
  {
   "cell_type": "code",
   "execution_count": 12,
   "id": "100e33b0",
   "metadata": {},
   "outputs": [
    {
     "data": {
      "image/png": "[encoded data removed]",
      "text/plain": [
       "<Figure size 720x432 with 1 Axes>"
      ]
     },
     "metadata": {
      "needs_background": "light"
     },
     "output_type": "display_data"
    }
   ],
   "source": [
    "fig, ax = plt.subplots(figsize=(10,6))\n",
    "ax.plot(results_LC['time'], results_LC['N'],\n",
    "        '-',\n",
    "        color='blue')\n",
    "ax.set(xlabel=\"Time\", ylabel='NORTH', title = 'Time-NORTH')\n",
    "ax.xaxis.set_major_locator(mdates.HourLocator(interval=2))\n",
    "ax.xaxis.set_major_formatter(DateFormatter(\"%H-%M\"))\n",
    "plt.show()"
   ]
  },
  {
   "cell_type": "code",
   "execution_count": 13,
   "id": "f152ecc0",
   "metadata": {},
   "outputs": [
    {
     "data": {
      "image/png": "[encoded data removed]",
      "text/plain": [
       "<Figure size 720x432 with 1 Axes>"
      ]
     },
     "metadata": {
      "needs_background": "light"
     },
     "output_type": "display_data"
    }
   ],
   "source": [
    "fig, ax = plt.subplots(figsize=(10,6))\n",
    "ax.plot(results_LC['time'], results_LC['U'],\n",
    "        '-',\n",
    "        color='green')\n",
    "ax.set(xlabel=\"Time\", ylabel='UP', title = 'Time-UP')\n",
    "ax.xaxis.set_major_locator(mdates.HourLocator(interval=2))\n",
    "ax.xaxis.set_major_formatter(DateFormatter(\"%H-%M\"))\n",
    "plt.show()"
   ]
  },
  {
   "cell_type": "code",
   "execution_count": null,
   "id": "e9ae63c7",
   "metadata": {},
   "outputs": [],
   "source": []
  }
 ],
 "metadata": {
  "kernelspec": {
   "display_name": "Python 3",
   "language": "python",
   "name": "python3"
  },
  "language_info": {
   "codemirror_mode": {
    "name": "ipython",
    "version": 3
   },
   "file_extension": ".py",
   "mimetype": "text/x-python",
   "name": "python",
   "nbconvert_exporter": "python",
   "pygments_lexer": "ipython3",
   "version": "3.7.6"
  }
 },
 "nbformat": 4,
 "nbformat_minor": 5
}
