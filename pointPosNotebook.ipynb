{
 "cells": [
  {
   "cell_type": "code",
   "execution_count": 2,
   "id": "4a4abf2f",
   "metadata": {},
   "outputs": [],
   "source": [
    "# Import of the required libraries\n",
    "import georinex as gr\n",
    "import pandas as pd\n",
    "import numpy as np\n",
    "import matplotlib.pyplot as plt\n",
    "import datetime as datetime\n",
    "from datetime import datetime as dtt\n",
    "import matplotlib.dates as mdates\n",
    "from matplotlib.dates import DateFormatter\n",
    "\n",
    "# Import of the software's modules\n",
    "import functions as fn\n",
    "import transformations as trf\n",
    "import pointPositioning as pp\n",
    "import RINEXreader "
   ]
  },
  {
   "cell_type": "code",
   "execution_count": 3,
   "id": "e3eea6ca",
   "metadata": {},
   "outputs": [],
   "source": [
    "param_file = 'parameters.txt'\n",
    "file = open(param_file, 'r')\n",
    "p = file.read().split('\\n')\n",
    "\n",
    "# Definition of the paths to the RINEX files\n",
    "nav_path = p[0]\n",
    "obs_path = p[1]\n",
    "eph_path = p[2]\n",
    "cutoff = int(p[3])"
   ]
  },
  {
   "cell_type": "markdown",
   "id": "1c69cc6d",
   "metadata": {},
   "source": [
    "# Load with georinex library of nav and obs rinex info"
   ]
  },
  {
   "cell_type": "code",
   "execution_count": 6,
   "id": "503f94b4",
   "metadata": {},
   "outputs": [
    {
     "name": "stderr",
     "output_type": "stream",
     "text": [
      "C:\\git\\pointPositioning\\pointPositioning\\functions.py:19: SettingWithCopyWarning: \n",
      "A value is trying to be set on a copy of a slice from a DataFrame\n",
      "\n",
      "See the caveats in the documentation: https://pandas.pydata.org/pandas-docs/stable/user_guide/indexing.html#returning-a-view-versus-a-copy\n",
      "  df['time'][i] = t\n"
     ]
    }
   ],
   "source": [
    "# Loading of GPS navigation parameters from NAV RINEX\n",
    "param_gps = gr.load(nav_path)\n",
    "df_gps = param_gps.to_dataframe()\n",
    "df_gps = ((df_gps.dropna()).sort_values(by=['time'], ascending = True)).reset_index()\n",
    "# Corrupted timestamps are corrected\n",
    "df_gps = fn.fixTime(df_gps)\n",
    "\n",
    "# Loading of GPS code observations in a DataSet\n",
    "obs = gr.load(obs_path)\n",
    "\n",
    "data = df_gps['time'][0]"
   ]
  },
  {
   "cell_type": "code",
   "execution_count": 7,
   "id": "20378a9b",
   "metadata": {},
   "outputs": [
    {
     "name": "stdout",
     "output_type": "stream",
     "text": [
      "                                   C1            L1    S1            P1  \\\n",
      "sv  time                                                                  \n",
      "G01 2021-05-26 00:00:00           NaN           NaN   NaN           NaN   \n",
      "    2021-05-26 00:00:30           NaN           NaN   NaN           NaN   \n",
      "    2021-05-26 00:01:00           NaN           NaN   NaN           NaN   \n",
      "    2021-05-26 00:01:30           NaN           NaN   NaN           NaN   \n",
      "    2021-05-26 00:02:00           NaN           NaN   NaN           NaN   \n",
      "...                               ...           ...   ...           ...   \n",
      "R24 2021-05-26 23:57:30  2.437221e+07  1.303292e+08  38.4  2.437221e+07   \n",
      "    2021-05-26 23:58:00  2.439498e+07  1.304510e+08  36.5  2.439498e+07   \n",
      "    2021-05-26 23:58:30  2.441775e+07  1.305727e+08  34.1  2.441775e+07   \n",
      "    2021-05-26 23:59:00  2.444052e+07  1.306945e+08  37.2  2.444052e+07   \n",
      "    2021-05-26 23:59:30  2.446328e+07  1.308162e+08  38.7  2.446328e+07   \n",
      "\n",
      "                                   C2            L2    S2            P2  C5  \\\n",
      "sv  time                                                                      \n",
      "G01 2021-05-26 00:00:00           NaN           NaN   NaN           NaN NaN   \n",
      "    2021-05-26 00:00:30           NaN           NaN   NaN           NaN NaN   \n",
      "    2021-05-26 00:01:00           NaN           NaN   NaN           NaN NaN   \n",
      "    2021-05-26 00:01:30           NaN           NaN   NaN           NaN NaN   \n",
      "    2021-05-26 00:02:00           NaN           NaN   NaN           NaN NaN   \n",
      "...                               ...           ...   ...           ...  ..   \n",
      "R24 2021-05-26 23:57:30  2.437221e+07  1.013671e+08  32.9  2.437221e+07 NaN   \n",
      "    2021-05-26 23:58:00  2.439499e+07  1.014619e+08  32.0  2.439498e+07 NaN   \n",
      "    2021-05-26 23:58:30  2.441776e+07  1.015566e+08  33.1  2.441776e+07 NaN   \n",
      "    2021-05-26 23:59:00  2.444052e+07  1.016513e+08  37.9  2.444052e+07 NaN   \n",
      "    2021-05-26 23:59:30  2.446328e+07  1.017459e+08  37.7  2.446328e+07 NaN   \n",
      "\n",
      "                         L5  S5  C7  L7  S7  C8  L8  S8  \n",
      "sv  time                                                 \n",
      "G01 2021-05-26 00:00:00 NaN NaN NaN NaN NaN NaN NaN NaN  \n",
      "    2021-05-26 00:00:30 NaN NaN NaN NaN NaN NaN NaN NaN  \n",
      "    2021-05-26 00:01:00 NaN NaN NaN NaN NaN NaN NaN NaN  \n",
      "    2021-05-26 00:01:30 NaN NaN NaN NaN NaN NaN NaN NaN  \n",
      "    2021-05-26 00:02:00 NaN NaN NaN NaN NaN NaN NaN NaN  \n",
      "...                      ..  ..  ..  ..  ..  ..  ..  ..  \n",
      "R24 2021-05-26 23:57:30 NaN NaN NaN NaN NaN NaN NaN NaN  \n",
      "    2021-05-26 23:58:00 NaN NaN NaN NaN NaN NaN NaN NaN  \n",
      "    2021-05-26 23:58:30 NaN NaN NaN NaN NaN NaN NaN NaN  \n",
      "    2021-05-26 23:59:00 NaN NaN NaN NaN NaN NaN NaN NaN  \n",
      "    2021-05-26 23:59:30 NaN NaN NaN NaN NaN NaN NaN NaN  \n",
      "\n",
      "[158400 rows x 17 columns]\n"
     ]
    }
   ],
   "source": [
    "print(obs.to_dataframe())"
   ]
  },
  {
   "cell_type": "code",
   "execution_count": null,
   "id": "fb18c509",
   "metadata": {},
   "outputs": [],
   "source": []
  },
  {
   "cell_type": "code",
   "execution_count": null,
   "id": "2704f77d",
   "metadata": {},
   "outputs": [],
   "source": [
    "# Definition of time range in which we want to carry out the analysis (get Satellite position, velocity and clockoffset and\n",
    "# perform Point Positioning)\n",
    "time_range = []\n",
    "\n",
    "START = df_gps['time'].min()\n",
    "END = dtt.strptime('2021-05-27 00:00:00', '%Y-%m-%d %H:%M:%S')\n",
    "t = START\n",
    "while t <= END:\n",
    "    time_range.append(t)\n",
    "    t = t + datetime.timedelta(minutes=5)\n",
    "mask_par = df_gps['time'] <= END\n",
    "df_gps = df_gps[mask_par].reset_index().drop(columns=['index'])\n",
    "    \n",
    "# List of the timestamps of the available observation (we can perform Point Positioning only when we have sufficient \n",
    "# code observations)\n",
    "time_obs = obs.time.to_dataframe()['time'].tolist()"
   ]
  },
  {
   "cell_type": "markdown",
   "id": "4e33eeb2",
   "metadata": {},
   "source": [
    "# Satellites positions, velocities and clock offsets"
   ]
  },
  {
   "cell_type": "code",
   "execution_count": null,
   "id": "880e9d04",
   "metadata": {},
   "outputs": [],
   "source": [
    "# Definition of the empty DataFrame that will contain the results\n",
    "satellites = pd.DataFrame(columns = ['time', 'sv', 'xs', 'ys', 'zs', 'xs_dot', 'ys_dot', 'zs_dot', 'ts', 'C1'])\n",
    "\n",
    "for w in time_range:\n",
    "    # The list of satellites, whose parameter we want to estimate, is obtained from the available observations:\n",
    "    # for each instant of time in time_range we select the in-view satellite\n",
    "    # their position, velocity and clock offset are the computed\n",
    "    if w in time_obs:\n",
    "        obs_tk = (obs.sel(time = w)).to_dataframe().reset_index()\n",
    "        obs_tk = obs_tk[['time', 'sv', 'C1']].dropna().reset_index()\n",
    "        available_sat = (obs_tk['sv']).to_list()\n",
    "        if len(available_sat) > 0:\n",
    "            for sv_i in available_sat:\n",
    "                # Every satellite in view at the considered epoch is associated with the parameter slot \n",
    "                # to which it belongs through the getPar function\n",
    "                sat_par = fn.getPar(sv_i, w, df_gps)\n",
    "                # If the navigation parameters are available:\n",
    "                if type(sat_par) == pd.core.frame.DataFrame:\n",
    "                    sat = fn.satPosVel(sat_par).reset_index()\n",
    "                    sat = sat.merge(obs_tk, on = ['sv', 'time'], how = 'left')\n",
    "                    satellites = satellites.append(sat)\n",
    "        \n",
    "satellites = satellites.reset_index()\n",
    "satellites = satellites[['time', 'sv', 'xs', 'ys', 'zs', 'xs_dot', 'ys_dot', 'zs_dot', 'ts', 'C1']]\n",
    "\n",
    "print(satellites)"
   ]
  },
  {
   "cell_type": "code",
   "execution_count": null,
   "id": "b04d054c",
   "metadata": {},
   "outputs": [],
   "source": [
    "satellites['P1'] = satellites['C1']"
   ]
  },
  {
   "cell_type": "markdown",
   "id": "e31d6fea",
   "metadata": {},
   "source": [
    "# Check on satellites' position and clock offsets"
   ]
  },
  {
   "cell_type": "code",
   "execution_count": null,
   "id": "029db5f4",
   "metadata": {},
   "outputs": [],
   "source": [
    "confronto = fn.checkSatPos(satellites, eph_path)"
   ]
  },
  {
   "cell_type": "markdown",
   "id": "4788a76c",
   "metadata": {},
   "source": [
    "# Check on satellites' velocity"
   ]
  },
  {
   "cell_type": "code",
   "execution_count": null,
   "id": "3b2f2eb2",
   "metadata": {},
   "outputs": [],
   "source": [
    "velocita = fn.checkSatVel(satellites, df_gps)"
   ]
  },
  {
   "cell_type": "markdown",
   "id": "89bb5bc1",
   "metadata": {},
   "source": [
    "# Point Positioning"
   ]
  },
  {
   "cell_type": "code",
   "execution_count": null,
   "id": "992937b7",
   "metadata": {},
   "outputs": [],
   "source": [
    "# Alpha and Beta paramethers for computing Ionosphere correction are read from nav RINEX through an apposite function\n",
    "ionoParams = RINEXreader.getIonoParams(nav_path)\n",
    "print('Inosphere parameters: ', ionoParams)\n",
    "\n",
    "# Definition of the initial position of the receiver (from OBS RINEX)\n",
    "R_0 = RINEXreader.getStartPos(obs_path)\n",
    "\n",
    "# Performing of Point Positioning with the apposite function\n",
    "results = pp.pointPositioning(satellites, R_0, ionoParams, cutoff)\n",
    "\n",
    "print(results)"
   ]
  },
  {
   "cell_type": "code",
   "execution_count": null,
   "id": "e34b7de9",
   "metadata": {},
   "outputs": [],
   "source": [
    "print('Statistical analysis on Point Positioning results:')\n",
    "print('Mean values: ')\n",
    "print('XR: ', results['xr'].mean())\n",
    "print('YR: ', results['yr'].mean())\n",
    "print('ZR: ', results['zr'].mean())\n",
    "print('dtR: ', results['dtr'].mean())\n",
    "\n",
    "print('Standard deviation: ')\n",
    "print('XR: ', results['xr'].std())\n",
    "print('YR: ', results['yr'].std())\n",
    "print('ZR: ', results['zr'].std())\n",
    "print('dtR: ', results['dtr'].std())"
   ]
  },
  {
   "cell_type": "markdown",
   "id": "149bad94",
   "metadata": {},
   "source": [
    "# Transformation in Local Cartesian"
   ]
  },
  {
   "cell_type": "code",
   "execution_count": null,
   "id": "a8dd81b3",
   "metadata": {},
   "outputs": [],
   "source": [
    "# Coordinates of the receiver, Milan Permanent Station, reference: SPIN3GNSS\n",
    "#P0_g = [45.478368630552694, 9.229212872263435, 191.12520962953568]\n",
    "#P0_cart = trf.geodToCart(45.478368630552694, 9.229212872263435, 191.12520962953568)\n",
    "\n",
    "#Zimmerwald\n",
    "P0_cart = [4331300.16, 567537.08, 4633133.51]\n",
    "P0_g = trf.cartToGeod(4331300.16, 567537.08, 4633133.51)\n",
    "\n",
    "results_LC = pd.DataFrame()\n",
    "results_LC['dx'] = results['xr'] - P0_cart[0]\n",
    "results_LC['dy'] = results['yr'] - P0_cart[1]\n",
    "results_LC['dz'] = results['zr'] - P0_cart[2]\n",
    "\n",
    "E=[]\n",
    "N=[]\n",
    "U=[]\n",
    "\n",
    "lat0 = trf.degToRad(P0_g[0])\n",
    "lon0 = trf.degToRad(P0_g[1])\n",
    "\n",
    "# Definition of the rotation matrix\n",
    "R = np.array([ [-np.sin(lon0), np.cos(lon0), 0],\n",
    "                [-np.sin(lat0)*np.cos(lon0), -np.sin(lat0)*np.sin(lon0), np.cos(lat0)],\n",
    "                [np.cos(lat0)*np.cos(lon0), np.cos(lat0)*np.sin(lon0), np.sin(lat0)]\n",
    "                ])\n",
    "\n",
    "for i in range(len(results_LC)):\n",
    "    delta_array_i = np.array([[results_LC['dx'][i]], [results_LC['dy'][i]], [results_LC['dz'][i]]])\n",
    "    ENU =np.dot(R, delta_array_i)\n",
    "    E.append(ENU[0][0])\n",
    "    N.append(ENU[1][0])\n",
    "    U.append(ENU[2][0])\n",
    "\n",
    "results_LC['E'] = E\n",
    "results_LC['N'] = N\n",
    "results_LC['U'] = U\n",
    "results_LC['time'] = results['datetime']\n",
    "results_LC = results_LC.reset_index()"
   ]
  },
  {
   "cell_type": "code",
   "execution_count": null,
   "id": "6b673ce7",
   "metadata": {},
   "outputs": [],
   "source": [
    "print('MEDIA ERRORI:')\n",
    "print('Est: ', results_LC['E'].mean(), '\\n',\n",
    "      'Nord: ', results_LC['N'].mean(), '\\n',\n",
    "      'Quota: ', results_LC['U'].mean() )\n",
    "\n",
    "print('DEVIAZIONE STANDARD:', '\\n',\n",
    "      'Est: ', results_LC['E'].std(), '\\n',\n",
    "      'Nord: ', results_LC['N'].std(), '\\n',\n",
    "      'Quota: ', results_LC['U'].std() )\n",
    "\n",
    "print('Valori Massimi:', '\\n',\n",
    "      'Est: ', abs(results_LC['E']).max(), '\\n',\n",
    "      'Nord: ', abs(results_LC['N']).max(), '\\n',\n",
    "      'Quota: ', abs(results_LC['U']).max() )"
   ]
  },
  {
   "cell_type": "code",
   "execution_count": null,
   "id": "fdf9a842",
   "metadata": {},
   "outputs": [],
   "source": [
    "fig, ax = plt.subplots(figsize=(10,6))\n",
    "ax.plot(results_LC['time'], results_LC['E'],\n",
    "        '-',\n",
    "        color='red')\n",
    "ax.set(xlabel=\"Time\", ylabel='EAST', title = 'Time-EAST')\n",
    "ax.xaxis.set_major_locator(mdates.HourLocator(interval=2))\n",
    "ax.xaxis.set_major_formatter(DateFormatter(\"%H-%M\"))\n",
    "plt.show()"
   ]
  },
  {
   "cell_type": "code",
   "execution_count": null,
   "id": "100e33b0",
   "metadata": {},
   "outputs": [],
   "source": [
    "fig, ax = plt.subplots(figsize=(10,6))\n",
    "ax.plot(results_LC['time'], results_LC['N'],\n",
    "        '-',\n",
    "        color='blue')\n",
    "ax.set(xlabel=\"Time\", ylabel='NORTH', title = 'Time-NORTH')\n",
    "ax.xaxis.set_major_locator(mdates.HourLocator(interval=2))\n",
    "ax.xaxis.set_major_formatter(DateFormatter(\"%H-%M\"))\n",
    "plt.show()"
   ]
  },
  {
   "cell_type": "code",
   "execution_count": null,
   "id": "f152ecc0",
   "metadata": {},
   "outputs": [],
   "source": [
    "fig, ax = plt.subplots(figsize=(10,6))\n",
    "ax.plot(results_LC['time'], results_LC['U'],\n",
    "        '-',\n",
    "        color='green')\n",
    "ax.set(xlabel=\"Time\", ylabel='UP', title = 'Time-UP')\n",
    "ax.xaxis.set_major_locator(mdates.HourLocator(interval=2))\n",
    "ax.xaxis.set_major_formatter(DateFormatter(\"%H-%M\"))\n",
    "plt.show()"
   ]
  },
  {
   "cell_type": "code",
   "execution_count": null,
   "id": "e9ae63c7",
   "metadata": {},
   "outputs": [],
   "source": []
  }
 ],
 "metadata": {
  "kernelspec": {
   "display_name": "Python 3",
   "language": "python",
   "name": "python3"
  },
  "language_info": {
   "codemirror_mode": {
    "name": "ipython",
    "version": 3
   },
   "file_extension": ".py",
   "mimetype": "text/x-python",
   "name": "python",
   "nbconvert_exporter": "python",
   "pygments_lexer": "ipython3",
   "version": "3.7.6"
  }
 },
 "nbformat": 4,
 "nbformat_minor": 5
}
